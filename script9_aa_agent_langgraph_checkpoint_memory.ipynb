{
 "cells": [
  {
   "cell_type": "markdown",
   "id": "d86963ea",
   "metadata": {},
   "source": [
    "- This code has written by Ahmadreza Attarpour (a.attarpour@mail.utoronto.ca)\n",
    "- It's a practice to check how we can use LangChain/LangGraph to build tools and agents\n",
    "\n",
    "-------------------------------------"
   ]
  },
  {
   "cell_type": "markdown",
   "id": "c8774c96",
   "metadata": {},
   "source": [
    "# Building a chatbot with memory and checkpoint\n"
   ]
  },
  {
   "cell_type": "code",
   "execution_count": null,
   "id": "0dc796de",
   "metadata": {},
   "outputs": [
    {
     "data": {
      "text/plain": [
       "AIMessage(content=\"I'm just a language model, I don't have feelings or emotions like humans do, so I don't have good or bad days. However, I'm functioning properly and ready to assist you with any questions or tasks you may have! How can I help you today?\", additional_kwargs={}, response_metadata={'token_usage': {'completion_tokens': 56, 'prompt_tokens': 16, 'total_tokens': 72, 'completion_time': 0.159011617, 'prompt_time': 0.000197646, 'queue_time': 0.020363418, 'total_time': 0.159209263}, 'model_name': 'llama3-70b-8192', 'system_fingerprint': 'fp_bf16903a67', 'service_tier': 'on_demand', 'finish_reason': 'stop', 'logprobs': None}, id='run--aa119cc9-63f3-4b84-a2b0-0d9208c6e719-0', usage_metadata={'input_tokens': 16, 'output_tokens': 56, 'total_tokens': 72})"
      ]
     },
     "execution_count": 2,
     "metadata": {},
     "output_type": "execute_result"
    }
   ],
   "source": [
    "####----------------------Build the LLM and embeddings----------------------####\n",
    "\n",
    "# load the environment variables from the .env file\n",
    "from dotenv import load_dotenv\n",
    "import os\n",
    "load_dotenv()\n",
    "\n",
    "# Read the variable from the environment and set it as a env variable\n",
    "GOOGLE_API_KEY = os.getenv(\"GOOGLE_API_KEY\")\n",
    "LANGCHAIN_API_KEY = os.getenv(\"LANGCHAIN_API_KEY\")\n",
    "LANGCHAIN_PROJECT = os.getenv(\"LANGCHAIN_PROJECT\")\n",
    "if GOOGLE_API_KEY:\n",
    "    os.environ[\"GOOGLE_API_KEY\"] = GOOGLE_API_KEY\n",
    "if LANGCHAIN_API_KEY:\n",
    "    os.environ[\"LANGCHAIN_API_KEY\"] = LANGCHAIN_API_KEY\n",
    "if LANGCHAIN_PROJECT:\n",
    "    os.environ[\"LANGCHAIN_PROJECT\"] = LANGCHAIN_PROJECT\n",
    "if os.getenv(\"GROQ_API_KEY\"):\n",
    "    os.environ[\"GROQ_API_KEY\"] = os.getenv(\"GROQ_API_KEY\")\n",
    "if os.getenv(\"SERPER_API_KEY\"):\n",
    "    os.environ[\"SERPER_API_KEY\"] = os.getenv(\"SERPER_API_KEY\")\n",
    "os.environ[\"LANGCHAIN_TRACING_V2\"] = \"true\"\n",
    "os.environ[\"LANGCHAIN_ENDPOINT\"] = \"https://api.smith.langchain.com\"\n",
    "\n",
    "\n",
    "# # load the LLM and embeddings from langchain_google_genai\n",
    "from langchain_groq import ChatGroq\n",
    "llm = ChatGroq(model=\"llama3-70b-8192\")\n",
    "\n",
    "llm.invoke(\"Hello, how are you?\")"
   ]
  },
  {
   "cell_type": "markdown",
   "id": "67ebf512",
   "metadata": {},
   "source": [
    "Here is a my call model Function\n",
    "https://github.com/langchain-ai/langgraph/tree/main/libs/langgraph/langgraph/graph\n"
   ]
  },
  {
   "cell_type": "code",
   "execution_count": 3,
   "id": "fb4041eb",
   "metadata": {},
   "outputs": [],
   "source": [
    "from langgraph.graph import StateGraph,MessagesState, START, END\n",
    "from langgraph.graph.message import add_messages\n",
    "from typing import Annotated, Literal, TypedDict\n",
    "from langchain_core.tools import tool\n",
    "from langchain_core.messages import HumanMessage\n",
    "from langgraph.checkpoint.memory import MemorySaver\n",
    "from langgraph.prebuilt import ToolNode"
   ]
  },
  {
   "cell_type": "code",
   "execution_count": 4,
   "id": "f899cdfc",
   "metadata": {},
   "outputs": [],
   "source": [
    "#######----------------------function to visualize the app----------------------####\n",
    "def visualize_app(app):\n",
    "    \"\"\"\n",
    "    Visualize the app using Mermaid syntax.\n",
    "    \"\"\"\n",
    "    try:\n",
    "        from IPython.display import display, Image\n",
    "        display(Image(app.get_graph().draw_mermaid_png()))\n",
    "    except Exception as e:\n",
    "        print(e)"
   ]
  },
  {
   "cell_type": "code",
   "execution_count": 5,
   "id": "877b4265",
   "metadata": {},
   "outputs": [],
   "source": [
    "#######----------------------function to stream app----------------------####\n",
    "\n",
    "def stream_app(app, input_state):\n",
    "    \"\"\"\n",
    "    Stream the app output.\n",
    "    \"\"\"\n",
    "    for output in app.stream(input_state):\n",
    "        for key, value in output.items():\n",
    "            print(f\"Output from {key} Node\")\n",
    "            print(\"-------------------\")\n",
    "\n",
    "            print(value)\n",
    "            print(\"\\n\")\n"
   ]
  },
  {
   "cell_type": "markdown",
   "id": "037e99d8",
   "metadata": {},
   "source": [
    "Notes: in the previous script we defined a custom state, but here we will use the MessagesState which is a prebuilt state in langgraph.\n",
    "\n",
    "MessagesState is what we float between nodes of the graph; it contains human, AI, and tools messages. \n"
   ]
  },
  {
   "cell_type": "code",
   "execution_count": 30,
   "id": "360537c6",
   "metadata": {},
   "outputs": [
    {
     "data": {
      "text/plain": [
       "{'messages': [AIMessage(content='There are 10 provinces in Canada:\\n\\n1. Ontario\\n2. Quebec\\n3. British Columbia\\n4. Alberta\\n5. Saskatchewan\\n6. Manitoba\\n7. Nova Scotia\\n8. New Brunswick\\n9. Prince Edward Island\\n10. Newfoundland and Labrador\\n\\nAdditionally, there are 3 territories in Canada:\\n\\n1. Yukon\\n2. Northwest Territories\\n3. Nunavut\\n\\nSo, in total, there are 10 provinces and 3 territories in Canada!', additional_kwargs={}, response_metadata={'token_usage': {'completion_tokens': 99, 'prompt_tokens': 19, 'total_tokens': 118, 'completion_time': 0.289310129, 'prompt_time': 0.000303445, 'queue_time': 0.009226708, 'total_time': 0.289613574}, 'model_name': 'llama3-70b-8192', 'system_fingerprint': 'fp_bf16903a67', 'service_tier': 'on_demand', 'finish_reason': 'stop', 'logprobs': None}, id='run--6eaf3d20-aa70-42c8-8b59-558a5a525001-0', usage_metadata={'input_tokens': 19, 'output_tokens': 99, 'total_tokens': 118})]}"
      ]
     },
     "execution_count": 30,
     "metadata": {},
     "output_type": "execute_result"
    }
   ],
   "source": [
    "####----------------------call LLM model function----------------------####\n",
    "def call_model(state: MessagesState):\n",
    "\n",
    "    messages = state['messages']\n",
    "    response = llm.invoke(messages)\n",
    "\n",
    "    return {\"messages\": [response]}\n",
    "\n",
    "# test the call_model function\n",
    "state = {\"messages\": [HumanMessage(content=\"Hello, how many provinces are in Canada?\")]}\n",
    "call_model(state)"
   ]
  },
  {
   "cell_type": "code",
   "execution_count": 31,
   "id": "1b8650d7",
   "metadata": {},
   "outputs": [],
   "source": [
    "#######----------------------build a simple chatbot----------------------####\n",
    "\n",
    "workflow = StateGraph(MessagesState)\n",
    "workflow.add_node(\"chatbot\", call_model)\n",
    "workflow.add_edge(START, \"chatbot\")\n",
    "workflow.add_edge(\"chatbot\", END)\n",
    "\n",
    "app = workflow.compile()"
   ]
  },
  {
   "cell_type": "code",
   "execution_count": 32,
   "id": "513bf536",
   "metadata": {},
   "outputs": [
    {
     "data": {
      "image/png": "[encoded data removed]",
      "text/plain": [
       "<IPython.core.display.Image object>"
      ]
     },
     "metadata": {},
     "output_type": "display_data"
    }
   ],
   "source": [
    "#######----------------------visualize the app----------------------####\n",
    "visualize_app(app)\n"
   ]
  },
  {
   "cell_type": "code",
   "execution_count": 33,
   "id": "ff30481c",
   "metadata": {},
   "outputs": [
    {
     "data": {
      "text/plain": [
       "{'messages': [HumanMessage(content='Hello, my name is Reza from Canada?', additional_kwargs={}, response_metadata={}, id='9abaca15-1708-487a-8d06-a02d7e8875be'),\n",
       "  AIMessage(content=\"Hello Reza from Canada! Nice to meet you! How's life in Canada treating you?\", additional_kwargs={}, response_metadata={'token_usage': {'completion_tokens': 20, 'prompt_tokens': 20, 'total_tokens': 40, 'completion_time': 0.065179418, 'prompt_time': 0.000311015, 'queue_time': 0.009348739, 'total_time': 0.065490433}, 'model_name': 'llama3-70b-8192', 'system_fingerprint': 'fp_bf16903a67', 'service_tier': 'on_demand', 'finish_reason': 'stop', 'logprobs': None}, id='run--834c8840-ccca-4ce6-8637-31c1fc74e4d1-0', usage_metadata={'input_tokens': 20, 'output_tokens': 20, 'total_tokens': 40})]}"
      ]
     },
     "execution_count": 33,
     "metadata": {},
     "output_type": "execute_result"
    }
   ],
   "source": [
    "# let's run the app\n",
    "\n",
    "input_state = {\"messages\": \"Hello, my name is Reza from Canada?\"}\n",
    "app.invoke(input_state)"
   ]
  },
  {
   "cell_type": "code",
   "execution_count": 34,
   "id": "ea9085f8",
   "metadata": {},
   "outputs": [
    {
     "name": "stdout",
     "output_type": "stream",
     "text": [
      "Output from chatbot Node\n",
      "-------------------\n",
      "{'messages': [AIMessage(content=\"Hello Reza from Canada! Nice to meet you! How's life treating you in the Great White North? What brings you here today?\", additional_kwargs={}, response_metadata={'token_usage': {'completion_tokens': 29, 'prompt_tokens': 20, 'total_tokens': 49, 'completion_time': 0.092860808, 'prompt_time': 0.000334064, 'queue_time': 0.00947042, 'total_time': 0.093194872}, 'model_name': 'llama3-70b-8192', 'system_fingerprint': 'fp_bf16903a67', 'service_tier': 'on_demand', 'finish_reason': 'stop', 'logprobs': None}, id='run--a55ba541-9d03-4444-8e5b-e5468d49f451-0', usage_metadata={'input_tokens': 20, 'output_tokens': 29, 'total_tokens': 49})]}\n",
      "\n",
      "\n"
     ]
    }
   ],
   "source": [
    "#######----------------------let's stream it----------------------####\n",
    "stream_app(app, input_state)"
   ]
  },
  {
   "cell_type": "code",
   "execution_count": 6,
   "id": "2445da05",
   "metadata": {},
   "outputs": [
    {
     "data": {
      "text/plain": [
       "\"I don't about Who is Ara?.\""
      ]
     },
     "execution_count": 6,
     "metadata": {},
     "output_type": "execute_result"
    }
   ],
   "source": [
    "###----------------------create a custom tool----------------------####\n",
    "\n",
    "@tool\n",
    "def reza_search(query: str):\n",
    "\n",
    "    \"\"\"\n",
    "    this is just a custom tool.\n",
    "    \"\"\"\n",
    "    if 'reza' in query.lower():\n",
    "        return \"Reza is an AI scientist from Canada.\"\n",
    "    else:\n",
    "        return f\"I don't about {query}.\"\n",
    "\n",
    "# let's test the tool\n",
    "reza_search.invoke(\"Who is Ara?\")"
   ]
  },
  {
   "cell_type": "code",
   "execution_count": 36,
   "id": "9db00d7d",
   "metadata": {},
   "outputs": [
    {
     "data": {
      "text/plain": [
       "StructuredTool(name='reza_search', description='this is just a custom tool.', args_schema=<class 'langchain_core.utils.pydantic.reza_search'>, func=<function reza_search at 0x1523cf9c0>)"
      ]
     },
     "execution_count": 36,
     "metadata": {},
     "output_type": "execute_result"
    }
   ],
   "source": [
    "reza_search"
   ]
  },
  {
   "cell_type": "code",
   "execution_count": 7,
   "id": "dd2604a1",
   "metadata": {},
   "outputs": [
    {
     "data": {
      "text/plain": [
       "{'messages': [AIMessage(content='There are 10 provinces in Canada.', additional_kwargs={}, response_metadata={'token_usage': {'completion_tokens': 9, 'prompt_tokens': 886, 'total_tokens': 895, 'completion_time': 0.054935147, 'prompt_time': 0.035960016, 'queue_time': 0.010541518, 'total_time': 0.090895163}, 'model_name': 'llama3-70b-8192', 'system_fingerprint': 'fp_bf16903a67', 'service_tier': 'on_demand', 'finish_reason': 'stop', 'logprobs': None}, id='run--724eff20-2cb8-447e-9207-2d7e7a4290e6-0', usage_metadata={'input_tokens': 886, 'output_tokens': 9, 'total_tokens': 895})]}"
      ]
     },
     "execution_count": 7,
     "metadata": {},
     "output_type": "execute_result"
    }
   ],
   "source": [
    "tools = [reza_search]\n",
    "\n",
    "\n",
    "### change the tool to a node in the graph\n",
    "tool_node = ToolNode(tools)\n",
    "\n",
    "\n",
    "### bind the llm to the tool.\n",
    "llm_with_tools = llm.bind_tools(tools)\n",
    "\n",
    "### update the call_model function to use the llm_with_tools\n",
    "def call_model(state: MessagesState):\n",
    "\n",
    "    messages = state['messages']\n",
    "    response = llm_with_tools.invoke(messages)\n",
    "\n",
    "    return {\"messages\": [response]}\n",
    "\n",
    "call_model({\"messages\": [HumanMessage(content=\"Hello, how many provinces are in Canada?\")]})"
   ]
  },
  {
   "cell_type": "markdown",
   "id": "bbff17e6",
   "metadata": {},
   "source": [
    "Let's look the result here: as it shows, there is no tool_calls because our query was not related to 'reza'\n",
    "\n",
    "{'messages': [AIMessage(content='There are 10 provinces in Canada.', additional_kwargs={}, response_metadata={'token_usage': {'completion_tokens': 9, 'prompt_tokens': 886, 'total_tokens': 895, 'completion_time': 0.053215394, 'prompt_time': 0.037787415, 'queue_time': 0.015368489, 'total_time': 0.091002809}, 'model_name': 'llama3-70b-8192', 'system_fingerprint': 'fp_bf16903a67', 'service_tier': 'on_demand', 'finish_reason': 'stop', 'logprobs': None}, id='run--d8e831c6-f737-4405-8ef9-c7667b0ac082-0', usage_metadata={'input_tokens': 886, 'output_tokens': 9, 'total_tokens': 895})]}"
   ]
  },
  {
   "cell_type": "code",
   "execution_count": 38,
   "id": "4b38d846",
   "metadata": {},
   "outputs": [
    {
     "data": {
      "text/plain": [
       "{'messages': [AIMessage(content='', additional_kwargs={'tool_calls': [{'id': '1mhtmgs4f', 'function': {'arguments': '{\"query\":\"Reza\"}', 'name': 'reza_search'}, 'type': 'function'}]}, response_metadata={'token_usage': {'completion_tokens': 45, 'prompt_tokens': 884, 'total_tokens': 929, 'completion_time': 0.181218569, 'prompt_time': 0.028161911, 'queue_time': 0.018045852, 'total_time': 0.20938048}, 'model_name': 'llama3-70b-8192', 'system_fingerprint': 'fp_bf16903a67', 'service_tier': 'on_demand', 'finish_reason': 'tool_calls', 'logprobs': None}, id='run--bfeec74c-4af1-46be-8c1a-9e463f08f19f-0', tool_calls=[{'name': 'reza_search', 'args': {'query': 'Reza'}, 'id': '1mhtmgs4f', 'type': 'tool_call'}], usage_metadata={'input_tokens': 884, 'output_tokens': 45, 'total_tokens': 929})]}"
      ]
     },
     "execution_count": 38,
     "metadata": {},
     "output_type": "execute_result"
    }
   ],
   "source": [
    "call_model({\"messages\": [HumanMessage(content=\"Hello, who is Reza?\")]})"
   ]
  },
  {
   "cell_type": "markdown",
   "id": "0bcdabf8",
   "metadata": {},
   "source": [
    "Let's look the result here: as it shows, there is tool_calls because our query was related to 'reza'\n",
    "\n",
    "\n",
    "{'messages': [AIMessage(content='', additional_kwargs={'tool_calls': [{'id': '9fqnbfnag', 'function': {'arguments': '{\"query\":\"Reza\"}', 'name': 'reza_search'}, 'type': 'function'}]}, response_metadata={'token_usage': {'completion_tokens': 45, 'prompt_tokens': 884, 'total_tokens': 929, 'completion_time': 0.175338733, 'prompt_time': 0.028429127, 'queue_time': 0.018603705, 'total_time': 0.20376786}, 'model_name': 'llama3-70b-8192', 'system_fingerprint': 'fp_bf16903a67', 'service_tier': 'on_demand', 'finish_reason': 'tool_calls', 'logprobs': None}, id='run--7ebfcfe8-7355-404f-a710-2b432db12d57-0', tool_calls=[{'name': 'reza_search', 'args': {'query': 'Reza'}, 'id': '9fqnbfnag', 'type': 'tool_call'}], usage_metadata={'input_tokens': 884, 'output_tokens': 45, 'total_tokens': 929})]}"
   ]
  },
  {
   "cell_type": "markdown",
   "id": "dd1bbc0a",
   "metadata": {},
   "source": [
    "# but it doesn't contain any output; content is empty that's why we need a function for our tool, but because we bind this to LLM, we can check if it has tool_calls, we need to call tool; otherwise, LLM itself creates the answer."
   ]
  },
  {
   "cell_type": "code",
   "execution_count": 8,
   "id": "efe5f249",
   "metadata": {},
   "outputs": [],
   "source": [
    "#######----------------------Define the router function----------------------####\n",
    "def router_function(state: MessagesState) -> Literal[\"tools\", END]:\n",
    "    \"\"\"\n",
    "    This function routes the state to the tools if the query is related to 'reza'.\n",
    "    \"\"\"\n",
    "    messages = state['messages']\n",
    "    last_message = messages[-1] \n",
    "\n",
    "    if last_message.tool_calls:\n",
    "        return \"tools\"\n",
    "\n",
    "    return END\n"
   ]
  },
  {
   "cell_type": "code",
   "execution_count": 40,
   "id": "665a1674",
   "metadata": {},
   "outputs": [],
   "source": [
    "####----------------------let's build the graph---------------------####\n",
    "\n",
    "workflow = StateGraph(MessagesState)\n",
    "\n",
    "workflow.add_node(\"agent\", call_model)\n",
    "workflow.add_edge(START, \"agent\")\n",
    "\n",
    "workflow.add_node(\"tools\", tool_node)\n",
    "\n",
    "workflow.add_conditional_edges(\n",
    "    \"agent\", # starts from here \n",
    "    router_function, # this decides the next step\n",
    "    {\"tools\": \"tools\", END: END} # either go to tools or end\n",
    ")   \n",
    "\n",
    "app = workflow.compile()\n"
   ]
  },
  {
   "cell_type": "code",
   "execution_count": 41,
   "id": "3e2b9c10",
   "metadata": {},
   "outputs": [
    {
     "data": {
      "image/png": "[encoded data removed]",
      "text/plain": [
       "<IPython.core.display.Image object>"
      ]
     },
     "metadata": {},
     "output_type": "display_data"
    }
   ],
   "source": [
    "# visualize_app\n",
    "\n",
    "visualize_app(app)"
   ]
  },
  {
   "cell_type": "code",
   "execution_count": 42,
   "id": "0d549fbd",
   "metadata": {},
   "outputs": [
    {
     "name": "stdout",
     "output_type": "stream",
     "text": [
      "Output from agent Node\n",
      "-------------------\n",
      "{'messages': [AIMessage(content='', additional_kwargs={'tool_calls': [{'id': 'gsa762vwf', 'function': {'arguments': '{\"query\":\"reza\"}', 'name': 'reza_search'}, 'type': 'function'}]}, response_metadata={'token_usage': {'completion_tokens': 45, 'prompt_tokens': 885, 'total_tokens': 930, 'completion_time': 0.153842675, 'prompt_time': 0.035739408, 'queue_time': 0.00990121, 'total_time': 0.189582083}, 'model_name': 'llama3-70b-8192', 'system_fingerprint': 'fp_bf16903a67', 'service_tier': 'on_demand', 'finish_reason': 'tool_calls', 'logprobs': None}, id='run--56973e48-56e1-4057-b7ca-b93c13b67b63-0', tool_calls=[{'name': 'reza_search', 'args': {'query': 'reza'}, 'id': 'gsa762vwf', 'type': 'tool_call'}], usage_metadata={'input_tokens': 885, 'output_tokens': 45, 'total_tokens': 930})]}\n",
      "\n",
      "\n",
      "Output from tools Node\n",
      "-------------------\n",
      "{'messages': [ToolMessage(content='Reza is an AI scientist from Canada.', name='reza_search', id='67fc37bd-472b-4c5d-b8aa-8af6ac2f269b', tool_call_id='gsa762vwf')]}\n",
      "\n",
      "\n"
     ]
    }
   ],
   "source": [
    "input_state = {\"messages\": \"Hello, do you know reza?\"}\n",
    "stream_app(app, input_state)"
   ]
  },
  {
   "cell_type": "code",
   "execution_count": 43,
   "id": "0d94c8bc",
   "metadata": {},
   "outputs": [
    {
     "name": "stdout",
     "output_type": "stream",
     "text": [
      "Output from agent Node\n",
      "-------------------\n",
      "{'messages': [AIMessage(content='', additional_kwargs={'tool_calls': [{'id': '0babrw43f', 'function': {'arguments': '{\"query\":\"reza\"}', 'name': 'reza_search'}, 'type': 'function'}]}, response_metadata={'token_usage': {'completion_tokens': 45, 'prompt_tokens': 884, 'total_tokens': 929, 'completion_time': 0.161033597, 'prompt_time': 0.035777477, 'queue_time': 0.009878882, 'total_time': 0.196811074}, 'model_name': 'llama3-70b-8192', 'system_fingerprint': 'fp_bf16903a67', 'service_tier': 'on_demand', 'finish_reason': 'tool_calls', 'logprobs': None}, id='run--dc4623d0-8c72-4a76-b0b3-ec0ee13a2a2f-0', tool_calls=[{'name': 'reza_search', 'args': {'query': 'reza'}, 'id': '0babrw43f', 'type': 'tool_call'}], usage_metadata={'input_tokens': 884, 'output_tokens': 45, 'total_tokens': 929})]}\n",
      "\n",
      "\n",
      "Output from tools Node\n",
      "-------------------\n",
      "{'messages': [ToolMessage(content='Reza is an AI scientist from Canada.', name='reza_search', id='1d93e4ce-09d3-40d9-972d-05dcbf988fdb', tool_call_id='0babrw43f')]}\n",
      "\n",
      "\n"
     ]
    }
   ],
   "source": [
    "input_state = {\"messages\": \"Hello, where is reza?\"}\n",
    "stream_app(app, input_state)"
   ]
  },
  {
   "cell_type": "code",
   "execution_count": 44,
   "id": "b50dabbf",
   "metadata": {},
   "outputs": [
    {
     "name": "stdout",
     "output_type": "stream",
     "text": [
      "Output from agent Node\n",
      "-------------------\n",
      "{'messages': [AIMessage(content='There are 10 provinces in Canada.', additional_kwargs={}, response_metadata={'token_usage': {'completion_tokens': 9, 'prompt_tokens': 887, 'total_tokens': 896, 'completion_time': 0.055441987, 'prompt_time': 0.035859676, 'queue_time': 0.010197617, 'total_time': 0.091301663}, 'model_name': 'llama3-70b-8192', 'system_fingerprint': 'fp_bf16903a67', 'service_tier': 'on_demand', 'finish_reason': 'stop', 'logprobs': None}, id='run--83756fbe-0064-4349-9cba-7198c944f0c2-0', usage_metadata={'input_tokens': 887, 'output_tokens': 9, 'total_tokens': 896})]}\n",
      "\n",
      "\n"
     ]
    }
   ],
   "source": [
    "input_state = {\"messages\": \"Hello, how many provinces are there in Canada?\"}\n",
    "stream_app(app, input_state)"
   ]
  },
  {
   "cell_type": "code",
   "execution_count": 45,
   "id": "82d8f2c9",
   "metadata": {},
   "outputs": [
    {
     "name": "stderr",
     "output_type": "stream",
     "text": [
      "Adding an edge to a graph that has already been compiled. This will not be reflected in the compiled graph.\n"
     ]
    },
    {
     "data": {
      "image/png": "[encoded data removed]",
      "text/plain": [
       "<IPython.core.display.Image object>"
      ]
     },
     "metadata": {},
     "output_type": "display_data"
    }
   ],
   "source": [
    "### now let's create a loop from the tools to the agent\n",
    "\n",
    "workflow.add_edge(\"tools\", \"agent\")\n",
    "app = workflow.compile()\n",
    "\n",
    "visualize_app(app)"
   ]
  },
  {
   "cell_type": "code",
   "execution_count": 46,
   "id": "57cda6a0",
   "metadata": {},
   "outputs": [
    {
     "name": "stdout",
     "output_type": "stream",
     "text": [
      "Output from agent Node\n",
      "-------------------\n",
      "{'messages': [AIMessage(content='', additional_kwargs={'tool_calls': [{'id': '1dkmr6xcq', 'function': {'arguments': '{\"query\":\"reza\"}', 'name': 'reza_search'}, 'type': 'function'}]}, response_metadata={'token_usage': {'completion_tokens': 45, 'prompt_tokens': 889, 'total_tokens': 934, 'completion_time': 0.170970595, 'prompt_time': 0.036426007, 'queue_time': 0.010237299, 'total_time': 0.207396602}, 'model_name': 'llama3-70b-8192', 'system_fingerprint': 'fp_bf16903a67', 'service_tier': 'on_demand', 'finish_reason': 'tool_calls', 'logprobs': None}, id='run--f03390d1-1d00-4dda-8951-15f15d37395f-0', tool_calls=[{'name': 'reza_search', 'args': {'query': 'reza'}, 'id': '1dkmr6xcq', 'type': 'tool_call'}], usage_metadata={'input_tokens': 889, 'output_tokens': 45, 'total_tokens': 934})]}\n",
      "\n",
      "\n",
      "Output from tools Node\n",
      "-------------------\n",
      "{'messages': [ToolMessage(content='Reza is an AI scientist from Canada.', name='reza_search', id='fc8b1dbe-7b07-4d45-8e7d-95fbeabf7933', tool_call_id='1dkmr6xcq')]}\n",
      "\n",
      "\n",
      "Output from agent Node\n",
      "-------------------\n",
      "{'messages': [AIMessage(content='Canada', additional_kwargs={}, response_metadata={'token_usage': {'completion_tokens': 2, 'prompt_tokens': 966, 'total_tokens': 968, 'completion_time': 0.049003032, 'prompt_time': 0.038524623, 'queue_time': 0.010354323, 'total_time': 0.087527655}, 'model_name': 'llama3-70b-8192', 'system_fingerprint': 'fp_bf16903a67', 'service_tier': 'on_demand', 'finish_reason': 'stop', 'logprobs': None}, id='run--9bc33cec-bbd2-4c9e-8eca-356b59bad8df-0', usage_metadata={'input_tokens': 966, 'output_tokens': 2, 'total_tokens': 968})]}\n",
      "\n",
      "\n"
     ]
    }
   ],
   "source": [
    "input_state = {\"messages\": \"Hello, where is reza? only name the country.\"}\n",
    "stream_app(app, input_state)"
   ]
  },
  {
   "cell_type": "markdown",
   "id": "bd036f29",
   "metadata": {},
   "source": [
    "# Now let's add Memory"
   ]
  },
  {
   "cell_type": "code",
   "execution_count": 9,
   "id": "7d440f4d",
   "metadata": {},
   "outputs": [],
   "source": [
    "from langgraph.checkpoint.memory import MemorySaver\n",
    "\n",
    "# Now let's add Memory\n",
    "memory = MemorySaver()"
   ]
  },
  {
   "cell_type": "code",
   "execution_count": 10,
   "id": "76684aeb",
   "metadata": {},
   "outputs": [
    {
     "data": {
      "image/png": "[encoded data removed]",
      "text/plain": [
       "<IPython.core.display.Image object>"
      ]
     },
     "metadata": {},
     "output_type": "display_data"
    }
   ],
   "source": [
    "workflow = StateGraph(MessagesState)\n",
    "\n",
    "workflow.add_node(\"agent\", call_model)\n",
    "workflow.add_edge(START, \"agent\")\n",
    "\n",
    "workflow.add_node(\"tools\", tool_node)\n",
    "\n",
    "workflow.add_conditional_edges(\n",
    "    \"agent\", # starts from here \n",
    "    router_function, # this decides the next step\n",
    "    {\"tools\": \"tools\", END: END} # either go to tools or end\n",
    ")   \n",
    "\n",
    "workflow.add_edge(\"tools\", \"agent\")\n",
    "\n",
    "app = workflow.compile(checkpointer=memory)\n",
    "\n",
    "visualize_app(app)"
   ]
  },
  {
   "cell_type": "code",
   "execution_count": 12,
   "id": "da432b20",
   "metadata": {},
   "outputs": [],
   "source": [
    "#######----------------------we need to create a configuration----------------------####\n",
    "\n",
    "config = {\"configurable\": {\"thread_id\": \"1\"}} # this is just an example configuration meaning each conversation will have a unique thread_id"
   ]
  },
  {
   "cell_type": "code",
   "execution_count": 56,
   "id": "fbd588fe",
   "metadata": {},
   "outputs": [],
   "source": [
    "events = app.stream({\"messages\": [HumanMessage(content=\"Hello, where is reza?\")]}, config, stream_mode=\"values\")"
   ]
  },
  {
   "cell_type": "code",
   "execution_count": null,
   "id": "522373ca",
   "metadata": {},
   "outputs": [
    {
     "name": "stdout",
     "output_type": "stream",
     "text": [
      "================================\u001b[1m Human Message \u001b[0m=================================\n",
      "\n",
      "Hello, where is reza?\n",
      "==================================\u001b[1m Ai Message \u001b[0m==================================\n",
      "\n",
      "Reza is an AI scientist from Canada.\n"
     ]
    }
   ],
   "source": [
    "events = app.stream(\n",
    "    {\"messages\": [HumanMessage(content=\"Hello, where is reza?\")]},\n",
    "    config=config,\n",
    "    stream_mode=\"values\"\n",
    ")\n",
    "\n",
    "for event in events:\n",
    "    if \"messages\" in event:\n",
    "        event[\"messages\"][-1].pretty_print()\n"
   ]
  },
  {
   "cell_type": "code",
   "execution_count": 63,
   "id": "f3453c7e",
   "metadata": {},
   "outputs": [
    {
     "name": "stdout",
     "output_type": "stream",
     "text": [
      "================================\u001b[1m Human Message \u001b[0m=================================\n",
      "\n",
      "Hello, my name is Elnaz?\n",
      "==================================\u001b[1m Ai Message \u001b[0m==================================\n",
      "\n",
      "Nice to meet you, Elnaz!\n"
     ]
    }
   ],
   "source": [
    "events = app.stream(\n",
    "    {\"messages\": [HumanMessage(content=\"Hello, my name is Elnaz?\")]},\n",
    "    config=config,\n",
    "    stream_mode=\"values\"\n",
    ")\n",
    "for event in events:\n",
    "    if \"messages\" in event:\n",
    "        event[\"messages\"][-1].pretty_print()"
   ]
  },
  {
   "cell_type": "code",
   "execution_count": 64,
   "id": "1544d32c",
   "metadata": {},
   "outputs": [
    {
     "name": "stdout",
     "output_type": "stream",
     "text": [
      "================================\u001b[1m Human Message \u001b[0m=================================\n",
      "\n",
      "Hello, what's my name?\n",
      "==================================\u001b[1m Ai Message \u001b[0m==================================\n",
      "\n",
      "Your name is Elnaz.\n"
     ]
    }
   ],
   "source": [
    "events = app.stream(\n",
    "    {\"messages\": [HumanMessage(content=\"Hello, what's my name?\")]},\n",
    "    config=config,\n",
    "    stream_mode=\"values\"\n",
    ")\n",
    "for event in events:\n",
    "    if \"messages\" in event:\n",
    "        event[\"messages\"][-1].pretty_print()"
   ]
  },
  {
   "cell_type": "code",
   "execution_count": 68,
   "id": "ed0012ac",
   "metadata": {},
   "outputs": [
    {
     "data": {
      "text/plain": [
       "{'v': 4,\n",
       " 'ts': '2025-08-08T16:19:53.773827+00:00',\n",
       " 'id': '1f074738-4462-6e6e-802c-e7afcf178f98',\n",
       " 'channel_versions': {'__start__': '00000000000000000000000000000045.0.7809072971967554',\n",
       "  'messages': '00000000000000000000000000000046.0.3904657184713459',\n",
       "  'branch:to:agent': '00000000000000000000000000000046.0.3904657184713459',\n",
       "  'branch:to:tools': '00000000000000000000000000000018.0.19519590400590026'},\n",
       " 'versions_seen': {'__input__': {},\n",
       "  '__start__': {'__start__': '00000000000000000000000000000044.0.5940201652299456'},\n",
       "  'agent': {'branch:to:agent': '00000000000000000000000000000045.0.7809072971967554'},\n",
       "  'tools': {'branch:to:tools': '00000000000000000000000000000017.0.45086161521756385'}},\n",
       " 'channel_values': {'messages': [HumanMessage(content='Hello, where is reza?', additional_kwargs={}, response_metadata={}, id='b0aa12f7-478d-418e-b242-ec392138ac6f'),\n",
       "   AIMessage(content='', additional_kwargs={'tool_calls': [{'id': 'xd0qt0m0p', 'function': {'arguments': '{\"query\":\"reza\"}', 'name': 'reza_search'}, 'type': 'function'}]}, response_metadata={'token_usage': {'completion_tokens': 45, 'prompt_tokens': 884, 'total_tokens': 929, 'completion_time': 0.167991978, 'prompt_time': 0.036379339, 'queue_time': 0.014971226, 'total_time': 0.204371317}, 'model_name': 'llama3-70b-8192', 'system_fingerprint': 'fp_bf16903a67', 'service_tier': 'on_demand', 'finish_reason': 'tool_calls', 'logprobs': None}, id='run--019f5dc3-260d-436f-8cb9-19f2ca6fe17b-0', tool_calls=[{'name': 'reza_search', 'args': {'query': 'reza'}, 'id': 'xd0qt0m0p', 'type': 'tool_call'}], usage_metadata={'input_tokens': 884, 'output_tokens': 45, 'total_tokens': 929}),\n",
       "   HumanMessage(content='Hello, where is reza?', additional_kwargs={}, response_metadata={}, id='e0718f0f-465c-42c9-a01d-4ab602701392'),\n",
       "   AIMessage(content='', additional_kwargs={'tool_calls': [{'id': 'wvqv44bss', 'function': {'arguments': '{\"query\":\"reza\"}', 'name': 'reza_search'}, 'type': 'function'}]}, response_metadata={'token_usage': {'completion_tokens': 35, 'prompt_tokens': 941, 'total_tokens': 976, 'completion_time': 0.122762753, 'prompt_time': 0.037187015, 'queue_time': 0.018411738, 'total_time': 0.159949768}, 'model_name': 'llama3-70b-8192', 'system_fingerprint': 'fp_bf16903a67', 'service_tier': 'on_demand', 'finish_reason': 'tool_calls', 'logprobs': None}, id='run--32bc96e9-d47d-41de-8d13-94d34a06ec4e-0', tool_calls=[{'name': 'reza_search', 'args': {'query': 'reza'}, 'id': 'wvqv44bss', 'type': 'tool_call'}], usage_metadata={'input_tokens': 941, 'output_tokens': 35, 'total_tokens': 976}),\n",
       "   ToolMessage(content='Reza is an AI scientist from Canada.', name='reza_search', id='385c5590-2621-474e-82aa-f198a1905917', tool_call_id='wvqv44bss'),\n",
       "   AIMessage(content='Reza is an AI scientist from Canada.', additional_kwargs={}, response_metadata={'token_usage': {'completion_tokens': 10, 'prompt_tokens': 1018, 'total_tokens': 1028, 'completion_time': 0.066500108, 'prompt_time': 0.042272891, 'queue_time': 0.010267938, 'total_time': 0.108772999}, 'model_name': 'llama3-70b-8192', 'system_fingerprint': 'fp_bf16903a67', 'service_tier': 'on_demand', 'finish_reason': 'stop', 'logprobs': None}, id='run--97a4e27e-564e-4407-b52a-70851dde615c-0', usage_metadata={'input_tokens': 1018, 'output_tokens': 10, 'total_tokens': 1028}),\n",
       "   HumanMessage(content='Hello, how are you?', additional_kwargs={}, response_metadata={}, id='a32da64b-d3bf-42c8-8c9f-19d8b9f86842'),\n",
       "   AIMessage(content=\"I'm doing well, thanks! I'm a large language model, so I don't have feelings like humans do, but I'm here to help answer your questions and provide information. How can I assist you today?\", additional_kwargs={}, response_metadata={'token_usage': {'completion_tokens': 45, 'prompt_tokens': 1043, 'total_tokens': 1088, 'completion_time': 0.210501142, 'prompt_time': 0.04169928, 'queue_time': 0.010872807, 'total_time': 0.252200422}, 'model_name': 'llama3-70b-8192', 'system_fingerprint': 'fp_bf16903a67', 'service_tier': 'on_demand', 'finish_reason': 'stop', 'logprobs': None}, id='run--33fd5559-f551-4f33-9e10-cf32066caaab-0', usage_metadata={'input_tokens': 1043, 'output_tokens': 45, 'total_tokens': 1088}),\n",
       "   HumanMessage(content='Hello, how are you?', additional_kwargs={}, response_metadata={}, id='85a59143-6d4a-4dc3-9eb6-00a83f3ea1d4'),\n",
       "   AIMessage(content=\"I'm doing well, thanks! I'm a large language model, so I don't have feelings like humans do, but I'm here to help answer your questions and provide information. How can I assist you today?\", additional_kwargs={}, response_metadata={'token_usage': {'completion_tokens': 45, 'prompt_tokens': 1103, 'total_tokens': 1148, 'completion_time': 0.143223276, 'prompt_time': 0.046259856, 'queue_time': 0.010180002, 'total_time': 0.189483132}, 'model_name': 'llama3-70b-8192', 'system_fingerprint': 'fp_bf16903a67', 'service_tier': 'on_demand', 'finish_reason': 'stop', 'logprobs': None}, id='run--dc0c19b1-a16e-48cc-bdfc-ea3d36cdf528-0', usage_metadata={'input_tokens': 1103, 'output_tokens': 45, 'total_tokens': 1148}),\n",
       "   HumanMessage(content='Hello, where is reza?', additional_kwargs={}, response_metadata={}, id='3b128d05-df04-4a1a-8e4a-f525b2d5b003'),\n",
       "   AIMessage(content='', additional_kwargs={'tool_calls': [{'id': 'n5mq5adwe', 'function': {'arguments': '{\"query\":\"reza\"}', 'name': 'reza_search'}, 'type': 'function'}]}, response_metadata={'token_usage': {'completion_tokens': 35, 'prompt_tokens': 1164, 'total_tokens': 1199, 'completion_time': 0.138629821, 'prompt_time': 0.046415874, 'queue_time': 0.011424386, 'total_time': 0.185045695}, 'model_name': 'llama3-70b-8192', 'system_fingerprint': 'fp_bf16903a67', 'service_tier': 'on_demand', 'finish_reason': 'tool_calls', 'logprobs': None}, id='run--c2faea56-d865-42bd-98ee-2c09328bdbdc-0', tool_calls=[{'name': 'reza_search', 'args': {'query': 'reza'}, 'id': 'n5mq5adwe', 'type': 'tool_call'}], usage_metadata={'input_tokens': 1164, 'output_tokens': 35, 'total_tokens': 1199}),\n",
       "   ToolMessage(content='Reza is an AI scientist from Canada.', name='reza_search', id='01b0cc7b-f322-4fec-872a-1a5c289f9d60', tool_call_id='n5mq5adwe'),\n",
       "   AIMessage(content='Reza is an AI scientist from Canada.', additional_kwargs={}, response_metadata={'token_usage': {'completion_tokens': 10, 'prompt_tokens': 1241, 'total_tokens': 1251, 'completion_time': 0.077240861, 'prompt_time': 0.048275314, 'queue_time': 0.019237995, 'total_time': 0.125516175}, 'model_name': 'llama3-70b-8192', 'system_fingerprint': 'fp_bf16903a67', 'service_tier': 'on_demand', 'finish_reason': 'stop', 'logprobs': None}, id='run--717e9a1b-faa0-4003-be22-6bbf06d41754-0', usage_metadata={'input_tokens': 1241, 'output_tokens': 10, 'total_tokens': 1251}),\n",
       "   HumanMessage(content=\"Hello, how's the weather in Tehran?\", additional_kwargs={}, response_metadata={}, id='d75ad38b-e0c6-43b2-9ad8-c020919c818e'),\n",
       "   AIMessage(content=\"I'm not sure about the current weather in Tehran. I'd be happy to help you find out, though!\", additional_kwargs={}, response_metadata={'token_usage': {'completion_tokens': 24, 'prompt_tokens': 1269, 'total_tokens': 1293, 'completion_time': 0.123647364, 'prompt_time': 0.049226338, 'queue_time': 0.010333944, 'total_time': 0.172873702}, 'model_name': 'llama3-70b-8192', 'system_fingerprint': 'fp_bf16903a67', 'service_tier': 'on_demand', 'finish_reason': 'stop', 'logprobs': None}, id='run--39cef00a-c766-46b8-b98f-6dc9b5179827-0', usage_metadata={'input_tokens': 1269, 'output_tokens': 24, 'total_tokens': 1293}),\n",
       "   HumanMessage(content=\"Hello, how's the weather in Tehran?\", additional_kwargs={}, response_metadata={}, id='f4355890-a091-4759-aafc-6f51d2ccb7ac'),\n",
       "   AIMessage(content=\"I'm not sure about the current weather in Tehran. I'd be happy to help you find out, though!\", additional_kwargs={}, response_metadata={'token_usage': {'completion_tokens': 24, 'prompt_tokens': 1311, 'total_tokens': 1335, 'completion_time': 0.125466955, 'prompt_time': 0.049872367, 'queue_time': 0.018461461, 'total_time': 0.175339322}, 'model_name': 'llama3-70b-8192', 'system_fingerprint': 'fp_bf16903a67', 'service_tier': 'on_demand', 'finish_reason': 'stop', 'logprobs': None}, id='run--12b87425-3567-4163-b5b4-bd87faf66f31-0', usage_metadata={'input_tokens': 1311, 'output_tokens': 24, 'total_tokens': 1335}),\n",
       "   HumanMessage(content='Hello, where is reza?', additional_kwargs={}, response_metadata={}, id='4e15c77e-5c31-4da5-9dc4-81654102725e'),\n",
       "   AIMessage(content='Reza is an AI scientist from Canada.', additional_kwargs={}, response_metadata={'token_usage': {'completion_tokens': 10, 'prompt_tokens': 1351, 'total_tokens': 1361, 'completion_time': 0.080505077, 'prompt_time': 0.052057071, 'queue_time': 0.025548754, 'total_time': 0.132562148}, 'model_name': 'llama3-70b-8192', 'system_fingerprint': 'fp_bf16903a67', 'service_tier': 'on_demand', 'finish_reason': 'stop', 'logprobs': None}, id='run--21aa8524-5c1a-4ac6-9f9b-3e7601ca3ae6-0', usage_metadata={'input_tokens': 1351, 'output_tokens': 10, 'total_tokens': 1361}),\n",
       "   HumanMessage(content='Hello, where is reza?', additional_kwargs={}, response_metadata={}, id='79a9f94d-0a8f-488e-8932-864a01a83f2e'),\n",
       "   AIMessage(content='Reza is an AI scientist from Canada.', additional_kwargs={}, response_metadata={'token_usage': {'completion_tokens': 10, 'prompt_tokens': 1377, 'total_tokens': 1387, 'completion_time': 0.083250843, 'prompt_time': 0.051562979, 'queue_time': 0.010233936, 'total_time': 0.134813822}, 'model_name': 'llama3-70b-8192', 'system_fingerprint': 'fp_bf16903a67', 'service_tier': 'on_demand', 'finish_reason': 'stop', 'logprobs': None}, id='run--890ea697-df0e-457e-91e1-60ba678f3325-0', usage_metadata={'input_tokens': 1377, 'output_tokens': 10, 'total_tokens': 1387}),\n",
       "   HumanMessage(content='Hello, my name is Elnaz?', additional_kwargs={}, response_metadata={}, id='ee47fc1b-7e88-4911-85dd-dc2c3b0cb4cf'),\n",
       "   AIMessage(content='Nice to meet you, Elnaz!', additional_kwargs={}, response_metadata={'token_usage': {'completion_tokens': 10, 'prompt_tokens': 1405, 'total_tokens': 1415, 'completion_time': 0.081740926, 'prompt_time': 0.055935258, 'queue_time': 0.010314216, 'total_time': 0.137676184}, 'model_name': 'llama3-70b-8192', 'system_fingerprint': 'fp_bf16903a67', 'service_tier': 'on_demand', 'finish_reason': 'stop', 'logprobs': None}, id='run--d2e0f483-aac0-42df-80f5-39a3a02b844a-0', usage_metadata={'input_tokens': 1405, 'output_tokens': 10, 'total_tokens': 1415}),\n",
       "   HumanMessage(content='Hello, where is reza?', additional_kwargs={}, response_metadata={}, id='1b8f1fe8-7b01-4dd3-8e75-b0de26e01485'),\n",
       "   AIMessage(content='Reza is an AI scientist from Canada.', additional_kwargs={}, response_metadata={'token_usage': {'completion_tokens': 10, 'prompt_tokens': 1431, 'total_tokens': 1441, 'completion_time': 0.080180782, 'prompt_time': 0.057940255, 'queue_time': 0.010418066, 'total_time': 0.138121037}, 'model_name': 'llama3-70b-8192', 'system_fingerprint': 'fp_bf16903a67', 'service_tier': 'on_demand', 'finish_reason': 'stop', 'logprobs': None}, id='run--acafe91e-276e-4e05-bc80-47679a3ff8c4-0', usage_metadata={'input_tokens': 1431, 'output_tokens': 10, 'total_tokens': 1441}),\n",
       "   HumanMessage(content='Hello, my name is Elnaz?', additional_kwargs={}, response_metadata={}, id='67079f3e-3989-41c9-a8df-3c0ffbff9113'),\n",
       "   AIMessage(content='Nice to meet you, Elnaz!', additional_kwargs={}, response_metadata={'token_usage': {'completion_tokens': 10, 'prompt_tokens': 1459, 'total_tokens': 1469, 'completion_time': 0.085325609, 'prompt_time': 0.054716757, 'queue_time': 0.01562017, 'total_time': 0.140042366}, 'model_name': 'llama3-70b-8192', 'system_fingerprint': 'fp_bf16903a67', 'service_tier': 'on_demand', 'finish_reason': 'stop', 'logprobs': None}, id='run--3552d714-f22b-4b03-8e54-4cd1cbbfed92-0', usage_metadata={'input_tokens': 1459, 'output_tokens': 10, 'total_tokens': 1469}),\n",
       "   HumanMessage(content=\"Hello, what's my name?\", additional_kwargs={}, response_metadata={}, id='37375402-a1d8-4ed0-8ede-13b9d5d6c952'),\n",
       "   AIMessage(content='Your name is Elnaz.', additional_kwargs={}, response_metadata={'token_usage': {'completion_tokens': 8, 'prompt_tokens': 1485, 'total_tokens': 1493, 'completion_time': 0.078213624, 'prompt_time': 0.056133914, 'queue_time': 0.010586854, 'total_time': 0.134347538}, 'model_name': 'llama3-70b-8192', 'system_fingerprint': 'fp_bf16903a67', 'service_tier': 'on_demand', 'finish_reason': 'stop', 'logprobs': None}, id='run--a0878092-716f-4a3f-af69-2e748cf025d2-0', usage_metadata={'input_tokens': 1485, 'output_tokens': 8, 'total_tokens': 1493}),\n",
       "   HumanMessage(content='Hello, where is reza?', additional_kwargs={}, response_metadata={}, id='ee63bcf4-2e16-41bd-84fa-9aaf6e26b739'),\n",
       "   AIMessage(content='Reza is an AI scientist from Canada.', additional_kwargs={}, response_metadata={'token_usage': {'completion_tokens': 10, 'prompt_tokens': 1509, 'total_tokens': 1519, 'completion_time': 0.087383974, 'prompt_time': 0.056335241, 'queue_time': 0.010463099, 'total_time': 0.143719215}, 'model_name': 'llama3-70b-8192', 'system_fingerprint': 'fp_bf16903a67', 'service_tier': 'on_demand', 'finish_reason': 'stop', 'logprobs': None}, id='run--7e1d56ac-4bd5-4598-8c63-3940840b62ea-0', usage_metadata={'input_tokens': 1509, 'output_tokens': 10, 'total_tokens': 1519})]}}"
      ]
     },
     "execution_count": 68,
     "metadata": {},
     "output_type": "execute_result"
    }
   ],
   "source": [
    "memory.get(config)"
   ]
  },
  {
   "cell_type": "code",
   "execution_count": null,
   "id": "0dfad858",
   "metadata": {},
   "outputs": [],
   "source": []
  }
 ],
 "metadata": {
  "kernelspec": {
   "display_name": "aa_agent",
   "language": "python",
   "name": "python3"
  },
  "language_info": {
   "codemirror_mode": {
    "name": "ipython",
    "version": 3
   },
   "file_extension": ".py",
   "mimetype": "text/x-python",
   "name": "python",
   "nbconvert_exporter": "python",
   "pygments_lexer": "ipython3",
   "version": "3.12.8"
  }
 },
 "nbformat": 4,
 "nbformat_minor": 5
}
