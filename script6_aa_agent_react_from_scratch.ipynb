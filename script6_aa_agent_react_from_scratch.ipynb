{
 "cells": [
  {
   "cell_type": "markdown",
   "id": "d86963ea",
   "metadata": {},
   "source": [
    "- This code has written by Ahmadreza Attarpour (a.attarpour@mail.utoronto.ca)\n",
    "- It's a practice to check how we can use LangChain/LangGraph to build tools and agents\n",
    "\n",
    "-------------------------------------"
   ]
  },
  {
   "cell_type": "markdown",
   "id": "fb35a012",
   "metadata": {},
   "source": [
    "# ReAct Agent from Scratch Using Python\n",
    "\n",
    "Agent --> Think --> Action (LLM or Tool call) --> observation --> repeat\n"
   ]
  },
  {
   "cell_type": "code",
   "execution_count": 1,
   "id": "a19adb1a",
   "metadata": {},
   "outputs": [],
   "source": [
    "import os"
   ]
  },
  {
   "cell_type": "code",
   "execution_count": 2,
   "id": "6ba50a41",
   "metadata": {},
   "outputs": [
    {
     "data": {
      "text/plain": [
       "True"
      ]
     },
     "execution_count": 2,
     "metadata": {},
     "output_type": "execute_result"
    }
   ],
   "source": [
    "# load the environment variables from the .env file\n",
    "from dotenv import load_dotenv\n",
    "load_dotenv()"
   ]
  },
  {
   "cell_type": "code",
   "execution_count": 3,
   "id": "03cd57a8",
   "metadata": {},
   "outputs": [],
   "source": [
    "# Read the variable from the environment and set it as a env variable\n",
    "GOOGLE_API_KEY = os.getenv(\"GOOGLE_API_KEY\")\n",
    "LANGCHAIN_API_KEY = os.getenv(\"LANGCHAIN_API_KEY\")\n",
    "LANGCHAIN_PROJECT = os.getenv(\"LANGCHAIN_PROJECT\")\n",
    "if GOOGLE_API_KEY:\n",
    "    os.environ[\"GOOGLE_API_KEY\"] = GOOGLE_API_KEY\n",
    "if LANGCHAIN_API_KEY:\n",
    "    os.environ[\"LANGCHAIN_API_KEY\"] = LANGCHAIN_API_KEY\n",
    "if LANGCHAIN_PROJECT:\n",
    "    os.environ[\"LANGCHAIN_PROJECT\"] = LANGCHAIN_PROJECT\n",
    "if os.getenv(\"GROQ_API_KEY\"):\n",
    "    os.environ[\"GROQ_API_KEY\"] = os.getenv(\"GROQ_API_KEY\")\n",
    "if os.getenv(\"SERPER_API_KEY\"):\n",
    "    os.environ[\"SERPER_API_KEY\"] = os.getenv(\"SERPER_API_KEY\")\n",
    "os.environ[\"LANGCHAIN_TRACING_V2\"] = \"true\"\n",
    "os.environ[\"LANGCHAIN_ENDPOINT\"] = \"https://api.smith.langchain.com\""
   ]
  },
  {
   "cell_type": "code",
   "execution_count": null,
   "id": "4c91e0b7",
   "metadata": {},
   "outputs": [],
   "source": [
    "# # load the LLM and embeddings from langchain_google_genai\n",
    "# from langchain_google_genai import GoogleGenerativeAIEmbeddings\n",
    "# embeddings = GoogleGenerativeAIEmbeddings(model=\"models/embedding-001\")\n",
    "# from langchain_google_genai import ChatGoogleGenerativeAI\n",
    "# llm = ChatGoogleGenerativeAI(model=\"gemini-2.5-pro\")"
   ]
  },
  {
   "cell_type": "code",
   "execution_count": 4,
   "id": "2055f0c1",
   "metadata": {},
   "outputs": [],
   "source": [
    "# from langchain_huggingface import HuggingFaceEmbeddings\n",
    "# This is a sentence-transformers model: It maps sentences & paragraphs to a\n",
    "# 384 dimensional dense vector space and can be used for tasks like clustering or semantic search.\n",
    "# embeddings = HuggingFaceEmbeddings(model_name=\"all-MiniLM-L6-v2\")\n",
    "from langchain_groq import ChatGroq\n",
    "# llm = ChatGroq(model=\"Gemma2-9b-It\")\n",
    "# llm = ChatGroq(model=\"llama3-70b-8192\")"
   ]
  },
  {
   "cell_type": "code",
   "execution_count": 5,
   "id": "7bc00a8a",
   "metadata": {},
   "outputs": [
    {
     "data": {
      "text/plain": [
       "AIMessage(content=\"The Nobel Prizes are awarded annually, and the winners are announced in October of each year. Here are the most recent winners of the Nobel Prizes:\\n\\n**2022 Nobel Prize Winners:**\\n\\n1. **Physics:** Alain Aspect, John F. Clauser, and Anton Zeilinger for their experiments on entangled photons, which have paved the way for more secure quantum communication.\\n2. **Chemistry:** Carolyn R. Bertozzi, Morten Meldal, and Barry Sharpless for the development of click chemistry and bioorthogonal chemistry, which allow for the creation of new molecules and the study of biological processes.\\n3. **Medicine:** Svante Pääbo for his discoveries concerning the genomes of extinct hominins and the origins of modern humans.\\n4. **Literature:** Annie Ernaux for the courage and clinical acuity with which she uncovers the roots, alienations, and collective restraints of personal memory.\\n5. **Peace:** Ales Bialiatski, Memorial, and the Center for Civil Liberties for their outstanding efforts to document war crimes, human rights abuses, and the promotion of peace and democracy.\\n6. **Economics:** Douglas W. Diamond, Philip H. Dybvig, and Ben S. Bernanke for their research on banks and financial crises, which has improved our understanding of the role of banks in the economy and the consequences of financial instability.\\n\\nThese are the most recent winners of the Nobel Prizes. If you're interested in previous winners, I'd be happy to provide that information as well!\", additional_kwargs={}, response_metadata={'token_usage': {'completion_tokens': 319, 'prompt_tokens': 19, 'total_tokens': 338, 'completion_time': 1.212286555, 'prompt_time': 0.000245266, 'queue_time': 0.009390475, 'total_time': 1.212531821}, 'model_name': 'llama3-70b-8192', 'system_fingerprint': 'fp_bf16903a67', 'service_tier': 'on_demand', 'finish_reason': 'stop', 'logprobs': None}, id='run--3cd6ebf3-f53d-4787-8621-82022e3fc845-0', usage_metadata={'input_tokens': 19, 'output_tokens': 319, 'total_tokens': 338})"
      ]
     },
     "execution_count": 5,
     "metadata": {},
     "output_type": "execute_result"
    }
   ],
   "source": [
    "llm.invoke(\"Hello, who won the Nobel Prize recently?\")"
   ]
  },
  {
   "cell_type": "markdown",
   "id": "215a86c4",
   "metadata": {},
   "source": [
    "# 1. we need a Chatbot class that needs to have three functions: init, call, and execute"
   ]
  },
  {
   "cell_type": "code",
   "execution_count": 5,
   "id": "00975188",
   "metadata": {},
   "outputs": [],
   "source": [
    "class Chatbot:\n",
    "    \"\"\"A simple chatbot class that uses a language model to respond to user messages.\"\"\"\n",
    "\n",
    "    def __init__(self, system=\"\"):\n",
    "        \"\"\"\n",
    "        Initializes the chatbot with an optional system message.\n",
    "        Args:\n",
    "            system (str): An optional system message to set the context for the chatbot.\n",
    "        \"\"\"\n",
    "        self.system = system\n",
    "        self.message= []\n",
    "        if self.system:\n",
    "            self.message.append({\"role\": \"system\", \"content\": system})\n",
    "\n",
    "    def __call__(self, message):\n",
    "        \"\"\"\n",
    "        Calls the chatbot with a user message, appends it to the conversation history,\n",
    "        and returns the assistant's response.\n",
    "        \"\"\"\n",
    "        self.message.append({\"role\": \"user\", \"content\": message})\n",
    "        result = self.execute()\n",
    "        self.message.append({\"role\": \"assistant\", \"content\": result})\n",
    "        return result\n",
    "\n",
    "    def execute(self):\n",
    "        \"\"\"\n",
    "        Executes the language model with the current conversation history and returns the response.\n",
    "        \"\"\"\n",
    "        llm = ChatGroq(model=\"Gemma2-9b-It\")\n",
    "        result = llm.invoke(self.message)\n",
    "        return result.content\n"
   ]
  },
  {
   "cell_type": "code",
   "execution_count": 16,
   "id": "8a37d2d7",
   "metadata": {},
   "outputs": [
    {
     "name": "stdout",
     "output_type": "stream",
     "text": [
      "* Paris. \n",
      "\n"
     ]
    }
   ],
   "source": [
    "bot = Chatbot(system=\"You are a professional travel agent who always responds in bullet points.\")\n",
    "print(bot(\"What is the capital of France?\"))"
   ]
  },
  {
   "cell_type": "code",
   "execution_count": 17,
   "id": "41b659ab",
   "metadata": {},
   "outputs": [
    {
     "name": "stdout",
     "output_type": "stream",
     "text": [
      "* Tehran. \n",
      "\n"
     ]
    }
   ],
   "source": [
    "print(bot(\"What is the capital of Iran?\"))"
   ]
  },
  {
   "cell_type": "code",
   "execution_count": 13,
   "id": "bb065684",
   "metadata": {},
   "outputs": [
    {
     "data": {
      "text/plain": [
       "[{'role': 'system', 'content': 'You are a helpful assistant.'},\n",
       " {'role': 'user', 'content': 'What is the capital of France?'},\n",
       " {'role': 'assistant', 'content': 'The capital of France is **Paris**. 🗼  \\n'},\n",
       " {'role': 'user', 'content': 'What is the capital of Iran?'},\n",
       " {'role': 'assistant', 'content': 'The capital of Iran is **Tehran**.  🇮🇷 \\n'}]"
      ]
     },
     "execution_count": 13,
     "metadata": {},
     "output_type": "execute_result"
    }
   ],
   "source": [
    "bot.message"
   ]
  },
  {
   "cell_type": "markdown",
   "id": "c4756302",
   "metadata": {},
   "source": [
    "# 2. We need to define prompt and this is where Agent becomes ReAct"
   ]
  },
  {
   "cell_type": "code",
   "execution_count": 6,
   "id": "9c2e8057",
   "metadata": {},
   "outputs": [],
   "source": [
    "prompt = \"\"\"\n",
    "You run in a loop of Thought, Action, PAUSE, Observation.\n",
    "At the end of the loop your output an Answer.\n",
    "Use Thought to describe your thoughts about the question you have been asked.\n",
    "Use Action to run one of the actions available to you - then return PAUSE.\n",
    "Observation will be the result of running those actions.\n",
    "\n",
    "\n",
    "Your available actions are:\n",
    "calculate:\n",
    "e.g. calculate: 4 * 7 / 3\n",
    "Runs a calculation and returns the number - uses Python so be sure to use floating point\n",
    "syntax if necessary\n",
    "\n",
    "wikipedia:\n",
    "e.g. wikipedia: Django\n",
    "Returns a summary from searching Wikipedia\n",
    "\n",
    "simon_blog_search:\n",
    "e.g. simon_blog_search: Python\n",
    "Search Simon's blog for that term\n",
    "\n",
    "Example session:\n",
    "Question: What is the capital of France?\n",
    "Thought: I should look up France on Wikipedia\n",
    "Action: wikipedia: France\n",
    "PAUSE\n",
    "\n",
    "You will be called again with this:\n",
    "Observation: France is a country. The capital is Paris.\n",
    "\n",
    "You then output:\n",
    "Answer: The capital of France is Paris\n",
    "\n",
    "Please Note: if you get basic conversation questions like \"hi\",\"hello\",\"how are you?\",\\n\n",
    "you have to answer \"hi\",\"hello\",\"i am good\".\n",
    "\"\"\".strip()"
   ]
  },
  {
   "cell_type": "markdown",
   "id": "ebeea98b",
   "metadata": {},
   "source": [
    "# 3. Let's give it some tools/functionalities based on prompt"
   ]
  },
  {
   "cell_type": "markdown",
   "id": "41a37e00",
   "metadata": {},
   "source": [
    "*Understand the Regular expression*\n",
    "Pattern Breakdown:\n",
    "\n",
    "^: This matches the start of a string. It means the string must begin with what follows.\n",
    "\n",
    "Action:: This is a literal match. It means the string must have the text \"Action:\" at the beginning.\n",
    "\n",
    "(\\w+):\n",
    "The parentheses () define a capture group. This allows you to extract part of the string that matches this section.\n",
    "\\w+ matches one or more word characters (letters, digits, and underscores). This will capture a word that follows \"Action:\".\n",
    "\n",
    ":: This is a literal colon that separates the word matched by (\\w+) from the rest of the string.\n",
    "\n",
    "(.*):\n",
    "This is another capture group, where .* matches any character (.) zero or more times (*), which means it captures everything that comes after the second colon.\n",
    "\n",
    "*What does it do?*\n",
    "This regex is looking for a string that:\n",
    "\n",
    "- Starts with the text \"Action:\".\n",
    "- Has a word right after it, separated by a colon.\n",
    "- Then, after another colon, it captures everything that follows."
   ]
  },
  {
   "cell_type": "code",
   "execution_count": 7,
   "id": "fa258997",
   "metadata": {},
   "outputs": [],
   "source": [
    "import re\n",
    "action_re = re.compile(r'^Action: (\\w+): (.*)')\n"
   ]
  },
  {
   "cell_type": "code",
   "execution_count": 8,
   "id": "d30afc21",
   "metadata": {},
   "outputs": [],
   "source": [
    "import httpx\n",
    "def wikipedia(query):\n",
    "    response = httpx.get(\"https://en.wikipedia.org/w/api.php\", params={\n",
    "        \"action\": \"query\",\n",
    "        \"list\": \"search\",\n",
    "        \"srsearch\": query,\n",
    "        \"format\": \"json\"\n",
    "    })\n",
    "    return response.json()[\"query\"][\"search\"][0][\"snippet\"]"
   ]
  },
  {
   "cell_type": "code",
   "execution_count": 9,
   "id": "61c95f14",
   "metadata": {},
   "outputs": [],
   "source": [
    "import httpx\n",
    "def simon_blog_search(query):\n",
    "    response = httpx.get(\"https://datasette.simonwillison.net/simonwillisonblog.json\", params={\n",
    "        \"sql\": \"\"\"\n",
    "        select\n",
    "          blog_entry.title || ': ' || substr(html_strip_tags(blog_entry.body), 0, 1000) as text,\n",
    "          blog_entry.created\n",
    "        from\n",
    "          blog_entry join blog_entry_fts on blog_entry.rowid = blog_entry_fts.rowid\n",
    "        where\n",
    "          blog_entry_fts match escape_fts(:q)\n",
    "        order by\n",
    "          blog_entry_fts.rank\n",
    "        limit\n",
    "          1\n",
    "        \"\"\".strip(),\n",
    "        \"_shape\": \"array\",\n",
    "        \"q\": query,\n",
    "    })\n",
    "    return response.json()[0][\"text\"]"
   ]
  },
  {
   "cell_type": "code",
   "execution_count": 10,
   "id": "d66d8ab2",
   "metadata": {},
   "outputs": [],
   "source": [
    "def calculate(number):\n",
    "    return eval(number)"
   ]
  },
  {
   "cell_type": "markdown",
   "id": "f00c9d3e",
   "metadata": {},
   "source": [
    "# 4. Now we create the react loop"
   ]
  },
  {
   "cell_type": "code",
   "execution_count": 11,
   "id": "123768cf",
   "metadata": {},
   "outputs": [],
   "source": [
    "known_actions = {\n",
    "    \"wikipedia\": wikipedia,\n",
    "    \"calculate\": calculate,\n",
    "    \"simon_blog_search\": simon_blog_search\n",
    "}"
   ]
  },
  {
   "cell_type": "code",
   "execution_count": 29,
   "id": "2264a312",
   "metadata": {},
   "outputs": [],
   "source": [
    "def query(question,max_turns=5):\n",
    "    \"\"\"Run the agent loop for a given question.\"\"\"\n",
    "    i = 0\n",
    "    bot = Chatbot(prompt)\n",
    "    next_prompt = question\n",
    "    while i < max_turns:\n",
    "        i += 1\n",
    "        result = bot(next_prompt)\n",
    "        print(result)\n",
    "        actions = [action_re.match(a) for a in result.split('\\n') if action_re.match(a)]\n",
    "        if actions:\n",
    "            action, action_input = actions[0].groups()\n",
    "            if action not in known_actions:\n",
    "                raise Exception(f\"Unknown action: {action}: {action_input}\")\n",
    "            print(\" -- running {} {}\".format(action, action_input))\n",
    "            observation = known_actions[action](action_input)\n",
    "            print(\"Observation:\", observation)\n",
    "            next_prompt = f\"Observation: {observation}\"\n",
    "        else:\n",
    "            return result"
   ]
  },
  {
   "cell_type": "code",
   "execution_count": 22,
   "id": "dc7b3ca8",
   "metadata": {},
   "outputs": [
    {
     "name": "stdout",
     "output_type": "stream",
     "text": [
      "Okay, I understand the loop and my available actions. I'm ready to receive a question!  \n",
      "\n",
      "Actions found: []\n"
     ]
    },
    {
     "data": {
      "text/plain": [
       "\"Okay, I understand the loop and my available actions. I'm ready to receive a question!  \\n\""
      ]
     },
     "execution_count": 22,
     "metadata": {},
     "output_type": "execute_result"
    }
   ],
   "source": [
    "query(\"hi\")"
   ]
  },
  {
   "cell_type": "code",
   "execution_count": 23,
   "id": "a32dc6b1",
   "metadata": {},
   "outputs": [
    {
     "name": "stdout",
     "output_type": "stream",
     "text": [
      "Understood. I will follow the Thought, Action, PAUSE, Observation loop and provide an Answer based on the information gathered. \n",
      "\n",
      "Let's begin!  What is your first question? \n",
      "\n",
      "\n",
      "Actions found: []\n"
     ]
    },
    {
     "data": {
      "text/plain": [
       "\"Understood. I will follow the Thought, Action, PAUSE, Observation loop and provide an Answer based on the information gathered. \\n\\nLet's begin!  What is your first question? \\n\\n\""
      ]
     },
     "execution_count": 23,
     "metadata": {},
     "output_type": "execute_result"
    }
   ],
   "source": [
    "query(\"how are you?\")"
   ]
  },
  {
   "cell_type": "code",
   "execution_count": 24,
   "id": "bdaad168",
   "metadata": {},
   "outputs": [
    {
     "name": "stdout",
     "output_type": "stream",
     "text": [
      "Thought: I should calculate 100 * 12 \n",
      "Action: calculate: 100 * 12\n",
      "PAUSE \n",
      "\n",
      "Actions found: [<re.Match object; span=(0, 27), match='Action: calculate: 100 * 12'>]\n",
      " -- running calculate 100 * 12\n",
      "Observation: 1200\n",
      "Answer: 1200\n",
      "Actions found: []\n"
     ]
    },
    {
     "data": {
      "text/plain": [
       "'Answer: 1200'"
      ]
     },
     "execution_count": 24,
     "metadata": {},
     "output_type": "execute_result"
    }
   ],
   "source": [
    "query(\"one hundred * twelve\")"
   ]
  },
  {
   "cell_type": "code",
   "execution_count": 25,
   "id": "565b32b7",
   "metadata": {},
   "outputs": [
    {
     "name": "stdout",
     "output_type": "stream",
     "text": [
      "Thought: I can check Simon's blog for mentions of Python. \n",
      "\n",
      "Action: simon_blog_search: Python\n",
      "PAUSE  \n",
      "\n",
      "Actions found: [<re.Match object; span=(0, 33), match='Action: simon_blog_search: Python'>]\n",
      " -- running simon_blog_search Python\n",
      "Observation: The YDN Python Developer Center: I recently had the opportunity to put together the Python Developer Center for the Yahoo! Developer Network. YDN is one of my favourite parts of Yahoo! so I jumped at the chance, and the resulting mini-site is now online (YDN blog post here).\n",
      "\n",
      "The bulk of the content is the HOWTOs, which discuss ways of accessing Yahoo! APIs using Python:\n",
      "\n",
      "\n",
      "  Make Yahoo! Web Service REST calls with Python\n",
      "  Cache API calls using Python\n",
      "  Parse JSON using Python\n",
      "  Parse XML using Python\n",
      "  Access the Yahoo! Search APIs using pYsearch\n",
      "  Access Yahoo! RSS feeds using Python\n",
      "\n",
      "\n",
      "I had a lot of fun playing around with different ways of accessing the APIs and working out which ones were the most natural fit. The HOWTOs use urllib, urllib2 and xml.dom.minidom from the standard library, but also discuss httplib2, ElementTree and simplejson as third party libraries that are worth investigating. Naturally, feedparser is the recommended tool for accessing Yahoo!'s multitude of RSS feeds.\n",
      "\n",
      "Python really is a fantast\n",
      "Answer: Yes, Simon Willison has written about Python on his blog. \n",
      "\n",
      "Actions found: []\n"
     ]
    },
    {
     "data": {
      "text/plain": [
       "'Answer: Yes, Simon Willison has written about Python on his blog. \\n'"
      ]
     },
     "execution_count": 25,
     "metadata": {},
     "output_type": "execute_result"
    }
   ],
   "source": [
    "query(\"Has Simon Willison written about Python?\")"
   ]
  },
  {
   "cell_type": "code",
   "execution_count": 31,
   "id": "3e7f6aa1",
   "metadata": {},
   "outputs": [
    {
     "name": "stdout",
     "output_type": "stream",
     "text": [
      "Thought: I should look up Iran on Wikipedia to find the capital.\n",
      "\n",
      "Action: wikipedia: Iran \n",
      "PAUSE \n",
      "\n",
      " -- running wikipedia Iran \n",
      "Observation: display the Persian text in this article correctly. <span class=\"searchmatch\">Iran</span>, officially the Islamic Republic of <span class=\"searchmatch\">Iran</span> (IRI) and also known as Persia, is a country in West\n",
      "Thought:  The observation confirms Iran is a country, but doesn't explicitly state its capital. I should continue looking for that information.\n",
      "\n",
      "\n",
      "Action: wikipedia: Iran \n",
      "PAUSE \n",
      "\n",
      " -- running wikipedia Iran \n",
      "Observation: display the Persian text in this article correctly. <span class=\"searchmatch\">Iran</span>, officially the Islamic Republic of <span class=\"searchmatch\">Iran</span> (IRI) and also known as Persia, is a country in West\n",
      "Thought: I need to be more specific in my Wikipedia search. I'll look for the capital of Iran. \n",
      "\n",
      "Action: wikipedia: capital of Iran\n",
      "PAUSE \n",
      "\n",
      " -- running wikipedia capital of Iran\n",
      "Observation: marks, boxes, or other symbols. Tehran is the <span class=\"searchmatch\">capital</span> and largest city <span class=\"searchmatch\">of</span> <span class=\"searchmatch\">Iran</span>. It is also the <span class=\"searchmatch\">capital</span> <span class=\"searchmatch\">of</span> Tehran province and the administrative center\n",
      "Answer: The capital of Iran is Tehran. \n",
      "\n"
     ]
    },
    {
     "data": {
      "text/plain": [
       "'Answer: The capital of Iran is Tehran. \\n'"
      ]
     },
     "execution_count": 31,
     "metadata": {},
     "output_type": "execute_result"
    }
   ],
   "source": [
    "query(\"What's the capital of Iran?\")"
   ]
  },
  {
   "cell_type": "code",
   "execution_count": 32,
   "id": "7eff5dc5",
   "metadata": {},
   "outputs": [
    {
     "name": "stdout",
     "output_type": "stream",
     "text": [
      "Thought: I need to find the population of Tehran and Toronto, then multiply them together. \n",
      "\n",
      "Action: wikipedia: Population of Tehran\n",
      "PAUSE \n",
      "\n",
      " -- running wikipedia Population of Tehran\n",
      "Observation: its Central District. With a <span class=\"searchmatch\">population</span> <span class=\"searchmatch\">of</span> around 9.8 million in the city, and 16.8 million in the metropolitan area, <span class=\"searchmatch\">Tehran</span> is the most populous city in\n",
      "Thought: I need the population of Toronto too. \n",
      "\n",
      "Action: wikipedia: Population of Toronto \n",
      "PAUSE \n",
      "\n",
      " -- running wikipedia Population of Toronto \n",
      "Observation: <span class=\"searchmatch\">Toronto</span> is the most populous city in Canada and the capital city <span class=\"searchmatch\">of</span> the Canadian province <span class=\"searchmatch\">of</span> Ontario. With a <span class=\"searchmatch\">population</span> <span class=\"searchmatch\">of</span> 2,794,356 in 2021, it is the\n",
      "Thought: Now I have the populations of both cities, I can multiply them.\n",
      "\n",
      "Action: calculate: 9.8 * 2.794356\n",
      "PAUSE \n",
      "\n",
      " -- running calculate 9.8 * 2.794356\n",
      "Observation: 27.384688800000003\n",
      "Answer: The population of Tehran multiplied by the population of Toronto is 27.384688800000003 \n",
      "\n"
     ]
    },
    {
     "data": {
      "text/plain": [
       "'Answer: The population of Tehran multiplied by the population of Toronto is 27.384688800000003 \\n'"
      ]
     },
     "execution_count": 32,
     "metadata": {},
     "output_type": "execute_result"
    }
   ],
   "source": [
    "query(\"What's the population of Tehran multiply by Toronto?\")"
   ]
  }
 ],
 "metadata": {
  "kernelspec": {
   "display_name": "aa_agent",
   "language": "python",
   "name": "python3"
  },
  "language_info": {
   "codemirror_mode": {
    "name": "ipython",
    "version": 3
   },
   "file_extension": ".py",
   "mimetype": "text/x-python",
   "name": "python",
   "nbconvert_exporter": "python",
   "pygments_lexer": "ipython3",
   "version": "3.12.8"
  }
 },
 "nbformat": 4,
 "nbformat_minor": 5
}
