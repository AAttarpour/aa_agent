{
 "cells": [
  {
   "cell_type": "markdown",
   "id": "d86963ea",
   "metadata": {},
   "source": [
    "- This code has written by Ahmadreza Attarpour (a.attarpour@mail.utoronto.ca)\n",
    "- It's a practice to check how we can use LangChain/LangGraph to build tools and agents\n",
    "\n",
    "-------------------------------------"
   ]
  },
  {
   "cell_type": "markdown",
   "id": "c8774c96",
   "metadata": {},
   "source": [
    "# building a complex agent system with RAG\n",
    "\n",
    "🔧 1. Purpose of the Code\n",
    "\n",
    "- Takes a user question.\n",
    "\n",
    "- Classifies whether it should use a RAG approach or a plain LLM response.\n",
    "\n",
    "- Routes the query accordingly.\n",
    "\n",
    "- Produces a final answer.\n",
    "\n",
    "Summary of the code:\n"
   ]
  },
  {
   "cell_type": "markdown",
   "id": "72001333",
   "metadata": {},
   "source": [
    "| Concept                                          | Purpose                                                       |\n",
    "| ------------------------------------------------ | ------------------------------------------------------------- |\n",
    "| `AgentState`                                     | Tracks state across graph steps, specifically `messages`.     |\n",
    "| `Annotated[Sequence[BaseMessage], operator.add]` | Tells LangGraph to keep adding messages across steps.         |\n",
    "| `PydanticOutputParser`                           | Forces LLM output to follow a JSON-like schema.               |\n",
    "| `function_SELECT`                                | Uses LLM + parser to choose a topic.                          |\n",
    "| `function_ROUTER`                                | Picks the next step (`RAG` or `LLM`) based on selected topic. |\n",
    "| `function_RAG`                                   | Answer using retrieved documents.                             |\n",
    "| `function_LLM`                                   | Answer using LLM alone.                                       |\n",
    "| `LangGraph`                                      | Orchestrates everything using a directed graph.               |\n"
   ]
  },
  {
   "cell_type": "code",
   "execution_count": 1,
   "id": "0dc796de",
   "metadata": {},
   "outputs": [
    {
     "name": "stderr",
     "output_type": "stream",
     "text": [
      "/Users/ahmadreza/anaconda3/envs/aa_agent/lib/python3.12/site-packages/tqdm/auto.py:21: TqdmWarning: IProgress not found. Please update jupyter and ipywidgets. See https://ipywidgets.readthedocs.io/en/stable/user_install.html\n",
      "  from .autonotebook import tqdm as notebook_tqdm\n"
     ]
    },
    {
     "data": {
      "text/plain": [
       "AIMessage(content='I\\'m just a language model, I don\\'t have feelings or emotions like humans do, so I don\\'t have good or bad days. I\\'m always \"on\" and ready to help with any questions or tasks you may have! How can I assist you today?', additional_kwargs={}, response_metadata={'token_usage': {'completion_tokens': 55, 'prompt_tokens': 16, 'total_tokens': 71, 'completion_time': 0.177355229, 'prompt_time': 0.000204897, 'queue_time': 0.012061166, 'total_time': 0.177560126}, 'model_name': 'llama3-70b-8192', 'system_fingerprint': 'fp_bf16903a67', 'service_tier': 'on_demand', 'finish_reason': 'stop', 'logprobs': None}, id='run--d533d771-f91c-4cd0-a5d3-194f08fccfa2-0', usage_metadata={'input_tokens': 16, 'output_tokens': 55, 'total_tokens': 71})"
      ]
     },
     "execution_count": 1,
     "metadata": {},
     "output_type": "execute_result"
    }
   ],
   "source": [
    "####----------------------Build the LLM and embeddings----------------------####\n",
    "\n",
    "\n",
    "# load the environment variables from the .env file\n",
    "from dotenv import load_dotenv\n",
    "import os\n",
    "load_dotenv()\n",
    "\n",
    "# Read the variable from the environment and set it as a env variable\n",
    "GOOGLE_API_KEY = os.getenv(\"GOOGLE_API_KEY\")\n",
    "LANGCHAIN_API_KEY = os.getenv(\"LANGCHAIN_API_KEY\")\n",
    "LANGCHAIN_PROJECT = os.getenv(\"LANGCHAIN_PROJECT\")\n",
    "if GOOGLE_API_KEY:\n",
    "    os.environ[\"GOOGLE_API_KEY\"] = GOOGLE_API_KEY\n",
    "if LANGCHAIN_API_KEY:\n",
    "    os.environ[\"LANGCHAIN_API_KEY\"] = LANGCHAIN_API_KEY\n",
    "if LANGCHAIN_PROJECT:\n",
    "    os.environ[\"LANGCHAIN_PROJECT\"] = LANGCHAIN_PROJECT\n",
    "if os.getenv(\"GROQ_API_KEY\"):\n",
    "    os.environ[\"GROQ_API_KEY\"] = os.getenv(\"GROQ_API_KEY\")\n",
    "if os.getenv(\"SERPER_API_KEY\"):\n",
    "    os.environ[\"SERPER_API_KEY\"] = os.getenv(\"SERPER_API_KEY\")\n",
    "os.environ[\"LANGCHAIN_TRACING_V2\"] = \"true\"\n",
    "os.environ[\"LANGCHAIN_ENDPOINT\"] = \"https://api.smith.langchain.com\"\n",
    "\n",
    "\n",
    "# # load the LLM and embeddings from langchain_google_genai\n",
    "from langchain_huggingface import HuggingFaceEmbeddings\n",
    "embeddings=HuggingFaceEmbeddings(model_name=\"all-MiniLM-L6-v2\")\n",
    "from langchain_groq import ChatGroq\n",
    "llm = ChatGroq(model=\"llama3-70b-8192\")\n",
    "\n",
    "llm.invoke(\"Hello, how are you?\")"
   ]
  },
  {
   "cell_type": "code",
   "execution_count": 3,
   "id": "6f52d06f",
   "metadata": {},
   "outputs": [
    {
     "name": "stdout",
     "output_type": "stream",
     "text": [
      "[Document(metadata={'source': 'data/japan.txt'}, page_content='Industrial revival hope for Japan\\n\\nJapanese industry is growing faster than expected, boosting hopes that the country\\'s retreat back into recession is over.\\n\\nIndustrial output rose 2.1% - adjusted for the time of year - in January from a month earlier. At the same time, retail sales picked up faster than at any time since 1997. The news sent Tokyo shares to an eight-month high, as investors hoped for a recovery from the three quarters of contraction seen from April 2004 on. The Nikkei 225 index ended the day up 0.7% at 11,740.60 points, with the yen strengthening 0.7% against the dollar to 104.53 yen. Weaker exports, normally the engine for Japan\\'s economy in the face of weak domestic demand, had helped trigger a 0.1% contraction in the final three months of last year after two previous quarters of shrinking GDP. Only an exceptionally strong performance in the early months of 2004 kept the year as a whole from showing a decline. The output figures brought a cautiously optimistic response from economic officials. \"Overall I see a low risk of the economy falling into serious recession,\" said Bank of Japan chief Toshihiko Fukui, despite warning that other indicators - such as the growth numbers - had been worrying.\\n\\nWithin the overall industrial output figure, there were signs of a pullback from the export slowdown. Among the best-performing sectors were key overseas sales areas such as cars, chemicals and electronic goods. With US growth doing better than expected the picture for exports in early 2005 could also be one of sustained demand. Electronics were also one of the keys to the improved domestic market, with products such as flat-screen TVs in high demand during January.\\n\\nJapan\\'s last four year GDP:\\n\\nYear\\tGDP\\n2022\\t$4,256.41B\\n2021\\t$5,034.62B\\n2020\\t$5,055.59B\\n2019\\t$5,117.99B')]\n",
      "Japan's last four year GDP:\n",
      "\n",
      "Year\tGDP\n",
      "2022\t$4,256.41B\n",
      "2021\t$5,034.62B\n",
      "2020\t$5,055.59B\n",
      "2019\t$5,117.99B\n",
      "{'source': 'data/japan.txt'}\n",
      "page_content='Japan's last four year GDP:\n",
      "\n",
      "Year\tGDP\n",
      "2022\t$4,256.41B\n",
      "2021\t$5,034.62B\n",
      "2020\t$5,055.59B\n",
      "2019\t$5,117.99B' metadata={'source': 'data/japan.txt'}\n",
      "page_content='Japan's last four year GDP:\n",
      "\n",
      "Year\tGDP\n",
      "2022\t$4,256.41B\n",
      "2021\t$5,034.62B\n",
      "2020\t$5,055.59B\n",
      "2019\t$5,117.99B' metadata={'source': 'data/japan.txt'}\n",
      "page_content='0.7% at 11,740.60 points, with the yen strengthening 0.7% against the dollar to 104.53 yen. Weaker exports, normally the engine for Japan's economy in the face of weak domestic demand, had helped' metadata={'source': 'data/japan.txt'}\n"
     ]
    },
    {
     "name": "stderr",
     "output_type": "stream",
     "text": [
      "/Users/ahmadreza/anaconda3/envs/aa_agent/lib/python3.12/site-packages/torch/nn/modules/module.py:1762: FutureWarning: `encoder_attention_mask` is deprecated and will be removed in version 4.55.0 for `BertSdpaSelfAttention.forward`.\n",
      "  return forward_call(*args, **kwargs)\n"
     ]
    }
   ],
   "source": [
    "####----------------------Build the RAG----------------------####\n",
    "\n",
    "\n",
    "from langchain_community.document_loaders import TextLoader, DirectoryLoader \n",
    "from langchain.text_splitter import RecursiveCharacterTextSplitter\n",
    "from langchain_community.vectorstores import Chroma\n",
    "from langchain import PromptTemplate\n",
    "from langchain_core.runnables import RunnableParallel, RunnablePassthrough, RunnableLambda\n",
    "from langchain_core.output_parsers import StrOutputParser\n",
    "\n",
    "# load the documents\n",
    "loader = DirectoryLoader('./data', glob=\"./japan*.txt\", loader_cls=TextLoader)\n",
    "docs = loader.load()\n",
    "print(docs)\n",
    "\n",
    "text_splitter = RecursiveCharacterTextSplitter(chunk_size=200, chunk_overlap=80)\n",
    "new_docs = text_splitter.split_documents(documents = docs)\n",
    "doc_strings = [doc.page_content for doc in new_docs]\n",
    "\n",
    "db = Chroma.from_documents(new_docs, embeddings)\n",
    "retriever = db.as_retriever(search_kwargs={\"k\":3})\n",
    "\n",
    "query = \"what is the GDP of japan?\"\n",
    "docs = retriever.get_relevant_documents(query)\n",
    "print(docs[0].page_content)\n",
    "print(docs[0].metadata)\n",
    "\n",
    "for doc in docs:\n",
    "    print(doc)"
   ]
  },
  {
   "cell_type": "code",
   "execution_count": 4,
   "id": "1ecfbaba",
   "metadata": {},
   "outputs": [],
   "source": [
    "####----------------------Build the RAG function----------------------####\n",
    "\n",
    "def function_RAG(AgentState):\n",
    "\n",
    "    print(\" -> Calling RAG ->\")\n",
    "    messages = AgentState[\"messages\"]\n",
    "    question = messages[0] # fetching the first user question\n",
    "\n",
    "    template = \"\"\"Answer the question based only on the following context:\n",
    "    {context}\n",
    "    \n",
    "    Question: {question}\n",
    "    \"\"\"\n",
    "\n",
    "    prompt = PromptTemplate.from_template(template)\n",
    "\n",
    "    retrieval_chain = (\n",
    "        {\"context\": retriever, \"question\": RunnablePassthrough()}\n",
    "        | prompt\n",
    "        | llm\n",
    "        | StrOutputParser() \n",
    "    )\n",
    "    result = retrieval_chain.invoke(question)\n",
    "\n",
    "    return {\"messages\": [result]}"
   ]
  },
  {
   "cell_type": "markdown",
   "id": "00a0ed9a",
   "metadata": {},
   "source": [
    "AgentState is a dictionary-like structure (via TypedDict) used to represent the state your agent tracks.\n",
    "\n",
    "It contains one key: \"messages\".\n",
    "\n",
    "🔍 What's Annotated[Sequence[BaseMessage], operator.add]?\n",
    "You're saying:\n",
    "\n",
    "- This key is a list of LangChain BaseMessages.\n",
    "\n",
    "- The special annotation operator.add is used to accumulate or concatenate messages as the graph proceeds.\n",
    "\n",
    "- Think of AgentState as a memory or log of conversation/messages flowing through your graph.\n",
    "\n"
   ]
  },
  {
   "cell_type": "code",
   "execution_count": 5,
   "id": "1a574d57",
   "metadata": {},
   "outputs": [],
   "source": [
    "####----------------------Class state Agent----------------------####\n",
    "\n",
    "\n",
    "from typing import TypedDict, Annotated, Sequence\n",
    "import operator\n",
    "from langchain_core.messages import BaseMessage\n",
    "\n",
    "class AgentState(TypedDict):\n",
    "\n",
    "    \"\"\"State of the agent, including messages and other relevant data.\n",
    "    the message field shouldbe be a sequence of strings and we annotate it with\n",
    "    `operator.add` to allow concatenation of messages.\"\"\"\n",
    "\n",
    "    messages: Annotated[Sequence[BaseMessage], operator.add]\n"
   ]
  },
  {
   "cell_type": "markdown",
   "id": "f8d3d294",
   "metadata": {},
   "source": [
    "We need Pydantic to help validate and structure typed Python data (like JSON or dicts) using classes.\n",
    "\n",
    "The following class defines the format of your structured output.\n",
    "\n",
    "Indeed, we're forcing LLM to  return something like:\n",
    "\n",
    "\n",
    "{\n",
    "\n",
    "  \"Topic\": \"Japan\",\n",
    "\n",
    "  \"Reasoning\": \"The user asked about Japanese history.\"\n",
    "  \n",
    "}\n",
    "\n"
   ]
  },
  {
   "cell_type": "markdown",
   "id": "3f58c78a",
   "metadata": {},
   "source": [
    "1. TypedDict:\n",
    "\n",
    "TypedDict is a special type that allows you to define a dictionary in Python where each key has a specific type. It’s useful when you want to enforce type checks on the keys and values of a dictionary.\n",
    "\n",
    "2. Annotated:\n",
    "\n",
    "Annotated is used to add metadata or constraints to a type. It’s typically used for adding additional information, like constraints or descriptions, to the type.\n",
    "\n",
    "3. Sequence[BaseMessage]:\n",
    "\n",
    "Sequence is a generic type from Python's typing module that represents a list-like structure (such as a list or tuple) where the order matters, and you can access elements by their position.\n",
    "\n",
    "4. BaseMessage:\n",
    "\n",
    "Basemessage: This assumes you're working with the LangChain framework, and BaseMessage is part of its core messaging system. It is typically used when handling or processing messages in LangChain's workflows\n",
    "\n",
    "5. operator.add:\n",
    "\n",
    "operator.add is a function from Python’s operator module that performs addition (+) on its arguments. In this context, operator.add is being used as metadata for the Annotated type, likely suggesting that the sequence of BaseMessage objects is meant to be \"added\" or concatenated with another sequence at some point. It’s an indicator of how the messages field will be treated in the logic of your program.\n",
    "\n",
    "6. TopicSelectionParser: A Pydantic model that defines two fields (Topic and Reasoning), both of which are required to be strings.\n",
    "\n",
    "7. Field: Adds metadata, like descriptions, and can also be used for validation and constraints.\n",
    "\n",
    "8. Pydantic’s Role: Ensures that the data matches the expected structure and types, raising validation errors if the data is invalid."
   ]
  },
  {
   "cell_type": "markdown",
   "id": "b19d83b5",
   "metadata": {},
   "source": [
    "# Putting It All Together:\n",
    "\n",
    "The line messages: Annotated[Sequence[BaseMessage], operator.add] defines a field messages that:\n",
    "\n",
    "Must be a sequence (like a list or tuple) of BaseMessage objects. Has the additional annotation operator.add, which suggests that this sequence is intended to support addition (i.e., concatenation of multiple sequences of messages).\n",
    "\n",
    "messages: Annotated[Sequence[BaseMessage], operator.add]\n",
    "\n",
    "\"messages\": [BaseMessage(\"Hello!\", \"Alice\"), BaseMessage(\"Hi!\", \"Bob\")]"
   ]
  },
  {
   "cell_type": "code",
   "execution_count": 7,
   "id": "2c4ac460",
   "metadata": {},
   "outputs": [],
   "source": [
    "####----------------------Pydantic object----------------------####\n",
    "\n",
    "from pydantic import BaseModel, Field\n",
    "from langchain.output_parsers import PydanticOutputParser\n",
    "\n",
    "class TopicSelectionParser(BaseModel):\n",
    "    Topic: str = Field(description=\"Selected Topic\")\n",
    "    Reasoning: str = Field(description=\"Reasoning behind topic selection\")\n",
    "\n",
    "# This tells the LLM how to structure its output.\n",
    "# It also includes parser.get_format_instructions() \n",
    "# which tells the LLM to format its output as JSON-like text, \n",
    "# conforming to the TopicSelectionParser model.\n",
    "parser = PydanticOutputParser(pydantic_object=TopicSelectionParser)"
   ]
  },
  {
   "cell_type": "code",
   "execution_count": 8,
   "id": "02c946e6",
   "metadata": {},
   "outputs": [
    {
     "name": "stdout",
     "output_type": "stream",
     "text": [
      "The output should be formatted as a JSON instance that conforms to the JSON schema below.\n",
      "\n",
      "As an example, for the schema {\"properties\": {\"foo\": {\"title\": \"Foo\", \"description\": \"a list of strings\", \"type\": \"array\", \"items\": {\"type\": \"string\"}}}, \"required\": [\"foo\"]}\n",
      "the object {\"foo\": [\"bar\", \"baz\"]} is a well-formatted instance of the schema. The object {\"properties\": {\"foo\": [\"bar\", \"baz\"]}} is not well-formatted.\n",
      "\n",
      "Here is the output schema:\n",
      "```\n",
      "{\"properties\": {\"Topic\": {\"description\": \"Selected Topic\", \"title\": \"Topic\", \"type\": \"string\"}, \"Reasoning\": {\"description\": \"Reasoning behind topic selection\", \"title\": \"Reasoning\", \"type\": \"string\"}}, \"required\": [\"Topic\", \"Reasoning\"]}\n",
      "```\n"
     ]
    }
   ],
   "source": [
    "print(parser.get_format_instructions())\n",
    "\n",
    "# this will be called inside the function_SELECT to ensure the output is in the correct format"
   ]
  },
  {
   "cell_type": "code",
   "execution_count": 9,
   "id": "85193680",
   "metadata": {},
   "outputs": [],
   "source": [
    "####----------------------Function 1 to whether use RAG or other path----------------------####\n",
    "\n",
    "def function_SELECT(state):\n",
    "\n",
    "    messages = state[\"messages\"]\n",
    "    question = messages[-1]\n",
    "\n",
    "    template = \"\"\"\n",
    "    Your task is to classify the given user query into one of the following categories: [Japan, Note Related]\n",
    "    Only respond with the category name and nothing else.\n",
    "    \n",
    "    user query: {question}\n",
    "    {format_instructions}\n",
    "    \"\"\"\n",
    "\n",
    "    prompt = PromptTemplate(template=template,\n",
    "                            input_variables=[\"question\"],\n",
    "                            partial_variables={\"format_instructions\": parser.get_format_instructions()}\n",
    "                            )\n",
    "\n",
    "    chain = prompt | llm | parser\n",
    "\n",
    "    response = chain.invoke({\"question\": question, \"format_instructions\": parser.get_format_instructions()})\n",
    "\n",
    "    print(response)\n",
    "\n",
    "    return {\"messages\": [response.Topic]}\n",
    "\n"
   ]
  },
  {
   "cell_type": "code",
   "execution_count": 10,
   "id": "05d2339c",
   "metadata": {},
   "outputs": [
    {
     "name": "stdout",
     "output_type": "stream",
     "text": [
      "Topic='Japan' Reasoning=\"The query mentions 'Japanese' which is a clear indicator of the topic being related to Japan\"\n"
     ]
    },
    {
     "data": {
      "text/plain": [
       "{'messages': ['Japan']}"
      ]
     },
     "execution_count": 10,
     "metadata": {},
     "output_type": "execute_result"
    }
   ],
   "source": [
    "# let's looks at the output of the function_SELECT\n",
    "state = {\"messages\": [\"tell me about Japanese industry?\"]}\n",
    "function_SELECT(state)"
   ]
  },
  {
   "cell_type": "markdown",
   "id": "7eb47ae8",
   "metadata": {},
   "source": [
    "Then {'messages': ['Japan']} will be passed to next function which is router."
   ]
  },
  {
   "cell_type": "code",
   "execution_count": 11,
   "id": "3ff5bbf1",
   "metadata": {},
   "outputs": [],
   "source": [
    "####----------------------Router function----------------------####\n",
    "\n",
    "def function_ROUTER(state):\n",
    "    print('-> Router ->')\n",
    "    messages = state[\"messages\"]\n",
    "\n",
    "    last_message = messages[-1]\n",
    "\n",
    "    if 'Japan' in last_message:\n",
    "\n",
    "        return 'RAG Call'\n",
    "    \n",
    "    else:\n",
    "\n",
    "        return 'LLM Call'\n"
   ]
  },
  {
   "cell_type": "code",
   "execution_count": 12,
   "id": "670f3f2a",
   "metadata": {},
   "outputs": [],
   "source": [
    "####----------------------LLM function----------------------####\n",
    "\n",
    "def function_LLM(state):\n",
    "\n",
    "    print('-> LLM Call ->')\n",
    "\n",
    "    messages = state[\"messages\"]\n",
    "    question = messages[0]  # fetching the first user question\n",
    "\n",
    "    # normal LLM call\n",
    "    complete_query = \"Answer the question with your knowledge of the real world. Following is the question: \" + question\n",
    "    response = llm.invoke(complete_query)\n",
    "\n",
    "    return {\"messages\": [response.content]}\n"
   ]
  },
  {
   "cell_type": "code",
   "execution_count": 13,
   "id": "cd1b4e10",
   "metadata": {},
   "outputs": [],
   "source": [
    "####----------------------let's build the graph----------------------####\n",
    "\n",
    "from langgraph.graph import StateGraph, END\n",
    "\n",
    "workflow = StateGraph(AgentState)\n",
    "\n",
    "workflow.add_node(\"agent\", function_SELECT)\n",
    "workflow.add_node(\"RAG\", function_RAG)\n",
    "workflow.add_node(\"LLM\", function_LLM)\n",
    "workflow.set_entry_point(\"agent\")\n",
    "\n",
    "workflow.add_conditional_edges(\n",
    "    \"agent\",\n",
    "    function_ROUTER,\n",
    "    {\n",
    "        \"RAG Call\": \"RAG\",\n",
    "        \"LLM Call\": \"LLM\"\n",
    "    }\n",
    ")\n",
    "\n",
    "workflow.add_edge(\"RAG\", END)\n",
    "workflow.add_edge(\"LLM\", END)\n",
    "\n",
    "app = workflow.compile()"
   ]
  },
  {
   "cell_type": "code",
   "execution_count": 14,
   "id": "651a3406",
   "metadata": {},
   "outputs": [
    {
     "data": {
      "image/png": "[encoded data removed]",
      "text/plain": [
       "<IPython.core.display.Image object>"
      ]
     },
     "metadata": {},
     "output_type": "display_data"
    }
   ],
   "source": [
    "# let's visualize the graph\n",
    "from IPython.display import display, Image\n",
    "\n",
    "try: \n",
    "    display(Image(app.get_graph().draw_mermaid_png()))\n",
    "\n",
    "except Exception as e:\n",
    "    print(e)"
   ]
  },
  {
   "cell_type": "code",
   "execution_count": 15,
   "id": "284f6872",
   "metadata": {},
   "outputs": [
    {
     "name": "stdout",
     "output_type": "stream",
     "text": [
      "Topic='Note Related' Reasoning='The query is not related to Japan and appears to be a note or a question about a general topic.'\n",
      "-> Router ->\n",
      "-> LLM Call ->\n",
      "{'messages': ['What is the capital of France?', 'Note Related', \"That's an easy one! The capital of France is Paris.\"]}\n"
     ]
    }
   ],
   "source": [
    "input = {\"messages\": [\"What is the capital of France?\"]}\n",
    "\n",
    "output = app.invoke(input)\n",
    "print(output)"
   ]
  },
  {
   "cell_type": "code",
   "execution_count": 16,
   "id": "93eee378",
   "metadata": {},
   "outputs": [
    {
     "name": "stdout",
     "output_type": "stream",
     "text": [
      "Topic='Note Related' Reasoning=\"The query does not seem to be related to Japan, and the concept of 'who invented llama' is not a valid or coherent idea, so it is classified as Note Related.\"\n",
      "-> Router ->\n",
      "-> LLM Call ->\n",
      "{'messages': ['who invented llama?', 'Note Related', 'I think there may be a bit of confusion here!\\n\\nLlamas are not invented by humans. They are domesticated mammals that originated from South America, specifically the Andean regions of present-day Peru, Bolivia, Ecuador, and Chile.\\n\\nLlamas are believed to have descended from the wild guanaco (Lama guanicoe) and vicuña (Vicugna vicugna), which are also native to the Andes. The process of domestication is thought to have occurred around 6,500 to 7,000 years ago, during the Neolithic period.\\n\\nThe indigenous people of the Andes, such as the Quechua and Aymara, are credited with domesticating and breeding llamas for their wool, milk, and meat, as well as for use as pack animals. They were an essential part of the Andean economy and culture for centuries.\\n\\nSo, to answer your question, no one \"invented\" llamas. They are a natural species that has been domesticated and selectively bred by humans over thousands of years.']}\n"
     ]
    }
   ],
   "source": [
    "input = {\"messages\": [\"who invented llama?\"]}\n",
    "\n",
    "output = app.invoke(input)\n",
    "print(output)"
   ]
  },
  {
   "cell_type": "code",
   "execution_count": 17,
   "id": "19f9e23d",
   "metadata": {},
   "outputs": [
    {
     "name": "stdout",
     "output_type": "stream",
     "text": [
      "Topic='Japan' Reasoning=''\n",
      "-> Router ->\n",
      " -> Calling RAG ->\n"
     ]
    },
    {
     "name": "stderr",
     "output_type": "stream",
     "text": [
      "/Users/ahmadreza/anaconda3/envs/aa_agent/lib/python3.12/site-packages/torch/nn/modules/module.py:1762: FutureWarning: `encoder_attention_mask` is deprecated and will be removed in version 4.55.0 for `BertSdpaSelfAttention.forward`.\n",
      "  return forward_call(*args, **kwargs)\n"
     ]
    },
    {
     "name": "stdout",
     "output_type": "stream",
     "text": [
      "{'messages': [\"what's the GDP of Japan?\", 'Japan', 'According to the provided context, the GDP of Japan for different years is:\\n\\n* 2022: $4,256.41B\\n* 2021: $5,034.62B\\n* 2020: $5,055.59B\\n* 2019: $5,117.99B\\n\\nThere is no single answer for the GDP of Japan, as it varies by year.']}\n"
     ]
    }
   ],
   "source": [
    "input = {\"messages\": [\"what's the GDP of Japan?\"]}\n",
    "\n",
    "output = app.invoke(input)\n",
    "print(output)"
   ]
  }
 ],
 "metadata": {
  "kernelspec": {
   "display_name": "aa_agent",
   "language": "python",
   "name": "python3"
  },
  "language_info": {
   "codemirror_mode": {
    "name": "ipython",
    "version": 3
   },
   "file_extension": ".py",
   "mimetype": "text/x-python",
   "name": "python",
   "nbconvert_exporter": "python",
   "pygments_lexer": "ipython3",
   "version": "3.12.8"
  }
 },
 "nbformat": 4,
 "nbformat_minor": 5
}
