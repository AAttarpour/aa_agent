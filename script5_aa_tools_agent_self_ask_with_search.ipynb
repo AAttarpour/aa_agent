{
 "cells": [
  {
   "cell_type": "markdown",
   "id": "d86963ea",
   "metadata": {},
   "source": [
    "- This code has written by Ahmadreza Attarpour (a.attarpour@mail.utoronto.ca)\n",
    "- It's a practice to check how we can use LangChain/LangGraph to build tools and agents\n",
    "\n",
    "-------------------------------------"
   ]
  },
  {
   "cell_type": "markdown",
   "id": "fb35a012",
   "metadata": {},
   "source": [
    "# Self-Ask With Search Agent\n",
    "\n",
    "- devide/break down the input into multiple intermediate questions and find the final answer\n",
    "- This approach allows the AI to ask itself follow up questions when it doesn't immediately know the answer. It performs a recursive questioning process to break down complex queries into smaller, more manageable ones.\n",
    "- once the AI generates these follow-up questions, it performs an external serach using tools to gather info before final answer.\n"
   ]
  },
  {
   "cell_type": "code",
   "execution_count": 18,
   "id": "a19adb1a",
   "metadata": {},
   "outputs": [],
   "source": [
    "import os"
   ]
  },
  {
   "cell_type": "code",
   "execution_count": 19,
   "id": "6ba50a41",
   "metadata": {},
   "outputs": [
    {
     "data": {
      "text/plain": [
       "True"
      ]
     },
     "execution_count": 19,
     "metadata": {},
     "output_type": "execute_result"
    }
   ],
   "source": [
    "# load the environment variables from the .env file\n",
    "from dotenv import load_dotenv\n",
    "load_dotenv()"
   ]
  },
  {
   "cell_type": "code",
   "execution_count": 20,
   "id": "03cd57a8",
   "metadata": {},
   "outputs": [],
   "source": [
    "# Read the variable from the environment and set it as a env variable\n",
    "GOOGLE_API_KEY = os.getenv(\"GOOGLE_API_KEY\")\n",
    "LANGCHAIN_API_KEY = os.getenv(\"LANGCHAIN_API_KEY\")\n",
    "LANGCHAIN_PROJECT = os.getenv(\"LANGCHAIN_PROJECT\")\n",
    "if GOOGLE_API_KEY:\n",
    "    os.environ[\"GOOGLE_API_KEY\"] = GOOGLE_API_KEY\n",
    "if LANGCHAIN_API_KEY:\n",
    "    os.environ[\"LANGCHAIN_API_KEY\"] = LANGCHAIN_API_KEY\n",
    "if LANGCHAIN_PROJECT:\n",
    "    os.environ[\"LANGCHAIN_PROJECT\"] = LANGCHAIN_PROJECT\n",
    "if os.getenv(\"TAVILY_API_KEY\"):\n",
    "    os.environ[\"TAVILY_API_KEY\"] = os.getenv(\"TAVILY_API_KEY\")\n",
    "if os.getenv(\"GROQ_API_KEY\"):\n",
    "    os.environ[\"GROQ_API_KEY\"] = os.getenv(\"GROQ_API_KEY\")\n",
    "if os.getenv(\"SERPER_API_KEY\"):\n",
    "    os.environ[\"SERPER_API_KEY\"] = os.getenv(\"SERPER_API_KEY\")\n",
    "os.environ[\"LANGCHAIN_TRACING_V2\"] = \"true\"\n",
    "os.environ[\"LANGCHAIN_ENDPOINT\"] = \"https://api.smith.langchain.com\""
   ]
  },
  {
   "cell_type": "code",
   "execution_count": 22,
   "id": "4c91e0b7",
   "metadata": {},
   "outputs": [],
   "source": [
    "# load the LLM and embeddings from langchain_google_genai\n",
    "from langchain_google_genai import GoogleGenerativeAIEmbeddings\n",
    "embeddings = GoogleGenerativeAIEmbeddings(model=\"models/embedding-001\")\n",
    "from langchain_google_genai import ChatGoogleGenerativeAI\n",
    "llm = ChatGoogleGenerativeAI(model=\"gemini-2.5-pro\")"
   ]
  },
  {
   "cell_type": "code",
   "execution_count": null,
   "id": "2055f0c1",
   "metadata": {},
   "outputs": [
    {
     "name": "stderr",
     "output_type": "stream",
     "text": [
      "/Users/ahmadreza/anaconda3/envs/aa_agent/lib/python3.12/site-packages/tqdm/auto.py:21: TqdmWarning: IProgress not found. Please update jupyter and ipywidgets. See https://ipywidgets.readthedocs.io/en/stable/user_install.html\n",
      "  from .autonotebook import tqdm as notebook_tqdm\n"
     ]
    }
   ],
   "source": [
    "# from langchain_huggingface import HuggingFaceEmbeddings\n",
    "# This is a sentence-transformers model: It maps sentences & paragraphs to a\n",
    "# 384 dimensional dense vector space and can be used for tasks like clustering or semantic search.\n",
    "# embeddings = HuggingFaceEmbeddings(model_name=\"all-MiniLM-L6-v2\")\n",
    "# from langchain_groq import ChatGroq\n",
    "# llm = ChatGroq(model=\"Gemma2-9b-It\")\n",
    "# llm = ChatGroq(model=\"llama3-70b-8192\")"
   ]
  },
  {
   "cell_type": "code",
   "execution_count": 23,
   "id": "aae63bfa",
   "metadata": {},
   "outputs": [],
   "source": [
    "from langchain.agents import create_self_ask_with_search_agent, AgentExecutor, tool, Tool\n",
    "from langchain import hub\n",
    "from langchain_community.tools.tavily_search import TavilyAnswer\n",
    "from langchain.utilities import GoogleSerperAPIWrapper\n"
   ]
  },
  {
   "cell_type": "code",
   "execution_count": 24,
   "id": "2cd4dfa2",
   "metadata": {},
   "outputs": [],
   "source": [
    "# create the search tool\n",
    "search = GoogleSerperAPIWrapper()\n",
    "tools = [\n",
    "    Tool(\n",
    "        name=\"Intermediate Answer\",\n",
    "        func=search.run,\n",
    "        description=\"Useful for when you need to answer questions with search.\",\n",
    "        verbose=True\n",
    "    )\n",
    "]"
   ]
  },
  {
   "cell_type": "code",
   "execution_count": 25,
   "id": "40f7c909",
   "metadata": {},
   "outputs": [
    {
     "name": "stdout",
     "output_type": "stream",
     "text": [
      "Question: Who lived longer, Muhammad Ali or Alan Turing?\n",
      "Are follow up questions needed here: Yes.\n",
      "Follow up: How old was Muhammad Ali when he died?\n",
      "Intermediate answer: Muhammad Ali was 74 years old when he died.\n",
      "Follow up: How old was Alan Turing when he died?\n",
      "Intermediate answer: Alan Turing was 41 years old when he died.\n",
      "So the final answer is: Muhammad Ali\n",
      "\n",
      "Question: When was the founder of craigslist born?\n",
      "Are follow up questions needed here: Yes.\n",
      "Follow up: Who was the founder of craigslist?\n",
      "Intermediate answer: Craigslist was founded by Craig Newmark.\n",
      "Follow up: When was Craig Newmark born?\n",
      "Intermediate answer: Craig Newmark was born on December 6, 1952.\n",
      "So the final answer is: December 6, 1952\n",
      "\n",
      "Question: Who was the maternal grandfather of George Washington?\n",
      "Are follow up questions needed here: Yes.\n",
      "Follow up: Who was the mother of George Washington?\n",
      "Intermediate answer: The mother of George Washington was Mary Ball Washington.\n",
      "Follow up: Who was the father of Mary Ball Washington?\n",
      "Intermediate answer: The father of Mary Ball Washington was Joseph Ball.\n",
      "So the final answer is: Joseph Ball\n",
      "\n",
      "Question: Are both the directors of Jaws and Casino Royale from the same country?\n",
      "Are follow up questions needed here: Yes.\n",
      "Follow up: Who is the director of Jaws?\n",
      "Intermediate answer: The director of Jaws is Steven Spielberg.\n",
      "Follow up: Where is Steven Spielberg from?\n",
      "Intermediate answer: The United States.\n",
      "Follow up: Who is the director of Casino Royale?\n",
      "Intermediate answer: The director of Casino Royale is Martin Campbell.\n",
      "Follow up: Where is Martin Campbell from?\n",
      "Intermediate answer: New Zealand.\n",
      "So the final answer is: No\n",
      "\n",
      "Question: {input}\n",
      "Are followup questions needed here:{agent_scratchpad}\n"
     ]
    }
   ],
   "source": [
    "# create prompt\n",
    "prompt = hub.pull(\"hwchase17/self-ask-with-search\")\n",
    "print(prompt.template)"
   ]
  },
  {
   "cell_type": "code",
   "execution_count": 26,
   "id": "bc49b25b",
   "metadata": {},
   "outputs": [],
   "source": [
    "# build the agent\n",
    "agent = create_self_ask_with_search_agent(llm, tools, prompt)"
   ]
  },
  {
   "cell_type": "code",
   "execution_count": 27,
   "id": "f46ba8c3",
   "metadata": {},
   "outputs": [],
   "source": [
    "agent_executor = AgentExecutor(\n",
    "    agent=agent,\n",
    "    tools=tools, \n",
    "    verbose=True,\n",
    "    return_intermediate_steps=True\n",
    ")"
   ]
  },
  {
   "cell_type": "code",
   "execution_count": 28,
   "id": "3aaaa9c9",
   "metadata": {},
   "outputs": [
    {
     "name": "stdout",
     "output_type": "stream",
     "text": [
      "\n",
      "\n",
      "\u001b[1m> Entering new AgentExecutor chain...\u001b[0m\n",
      "\u001b[32;1m\u001b[1;3mYes.\n",
      "Follow up: What is the population of India?\u001b[0m\u001b[36;1m\u001b[1;3m1.451 billion (2024)\u001b[0m\u001b[32;1m\u001b[1;3mFollow up: What is the population of China?\u001b[0m\u001b[36;1m\u001b[1;3mChina: Country in East Asia. China, officially the People's Republic of China, is a country in East Asia. With a population exceeding 1.4 billion, it is the second-most populous country after India, representing 17.4% of the world population. China Capital: Beijing. The current population of China is 1,415,782,819 as of Tuesday, August 5, 2025, based on Worldometer's elaboration of the latest United Nations data1. China ... By one estimate, in 2024 China's population stood at about 1.408 billion, down from the 1.412 billion recorded in the 2020 census. According to the 2020 census, ... World Population ; China, 1,407,181,209 ; United States, 342,034,432 ; Indonesia, 283,587,097 ; Pakistan, 257,047,044 ; Nigeria, 242,794,751. China is a country in Asia. The population in China was 1,408,975,000 in 2024. The nominal GDP per capita in China was $13,303.15 in 2024. China is a country in Asia, known for the Great Wall and diverse landscapes. It has a population of over 1416 million, making it the 2nd largest country in the ... According to latest figures, the Chinese population decreased by 1.39 million to around 1.408 billion people in 2024. The only source for China's population being 1.4-1.5 billion is China itself. No other source has ever verified this claim. Total current population for China in 2025 is 1,424,381,924, a 0.06% decline from 2024. Total population for China in 2024 was 1,425,178,782, a 1.03% increase ... New: Updated with 2024 numbers and new immigration visualizations. Check our other visualizations. Immigration statistics per countries · Immigration statistics ...\u001b[0m\u001b[32;1m\u001b[1;3mIntermediate answer: The population of China is approximately 1.425 billion.\n",
      "Follow up: What is the population of India?\u001b[0m\u001b[36;1m\u001b[1;3m1.451 billion (2024)\u001b[0m\u001b[32;1m\u001b[1;3mFollow up: What is the population of India?\u001b[0m\u001b[36;1m\u001b[1;3mIndia: Country in South Asia. India, officially the Republic of India, is a country in South Asia. It is the seventh-largest country by area; the most populous country since 2023; and, since its independence in 1947, the world's most populous democracy. India Capital: New Delhi. The current population of India is 1,465,042,772 as of Tuesday, August 5, 2025, based on Worldometer's elaboration of the latest United Nations data1. India ... World Population ; India, 1,419,316,933 ; China, 1,407,181,209 ; United States, 342,034,432 ; Indonesia, 283,587,097 ; Pakistan, 257,047,044. In 2023 India's population stood at slightly over 1.428 billion, edging past China's population of 1.425 billion people. It has a population of nearly 1464 million, making it the 1st largest country in the world. Its capital is New Delhi. India is a country in Asia. The population in India was 1,450,935,791 in 2024. The nominal GDP per capita in India was $2,696.66 in 2024. The Gini index in ... Total current population for India in 2025 is 1,454,606,724, a 0.89% increase from 2024. Total population for India in 2024 was 1,441,719,852, a 0.25% increase ... It is a pluralistic, multilingual and multi-ethnic society. India's population grew from 361 million in 1951 to over 1.4 billion in 2023. As of 1 January 2025, the population of India was estimated to be 1,461,898,454 people. This is an increase of 1.26 % (18,176,460 people) compared to population ... India · 1.4B · 477.4 · 106.2 · 2.0 · $41.5B · $87.3B · 93.6%. A Closer Look. Source. Comparisons. Population. People per sq. km. Males per 100 females. Children ...\u001b[0m\u001b[32;1m\u001b[1;3mIntermediate answer: The population of India is approximately 1.428 billion.\n",
      "So the final answer is: India\u001b[0m\n",
      "\n",
      "\u001b[1m> Finished chain.\u001b[0m\n"
     ]
    },
    {
     "data": {
      "text/plain": [
       "{'input': 'which asian country has the largest population?',\n",
       " 'output': 'India',\n",
       " 'intermediate_steps': [(AgentAction(tool='Intermediate Answer', tool_input='What is the population of India?', log='Yes.\\nFollow up: What is the population of India?'),\n",
       "   '1.451 billion (2024)'),\n",
       "  (AgentAction(tool='Intermediate Answer', tool_input='What is the population of China?', log='Follow up: What is the population of China?'),\n",
       "   \"China: Country in East Asia. China, officially the People's Republic of China, is a country in East Asia. With a population exceeding 1.4 billion, it is the second-most populous country after India, representing 17.4% of the world population. China Capital: Beijing. The current population of China is 1,415,782,819 as of Tuesday, August 5, 2025, based on Worldometer's elaboration of the latest United Nations data1. China ... By one estimate, in 2024 China's population stood at about 1.408 billion, down from the 1.412 billion recorded in the 2020 census. According to the 2020 census, ... World Population ; China, 1,407,181,209 ; United States, 342,034,432 ; Indonesia, 283,587,097 ; Pakistan, 257,047,044 ; Nigeria, 242,794,751. China is a country in Asia. The population in China was 1,408,975,000 in 2024. The nominal GDP per capita in China was $13,303.15 in 2024. China is a country in Asia, known for the Great Wall and diverse landscapes. It has a population of over 1416 million, making it the 2nd largest country in the ... According to latest figures, the Chinese population decreased by 1.39 million to around 1.408 billion people in 2024. The only source for China's population being 1.4-1.5 billion is China itself. No other source has ever verified this claim. Total current population for China in 2025 is 1,424,381,924, a 0.06% decline from 2024. Total population for China in 2024 was 1,425,178,782, a 1.03% increase ... New: Updated with 2024 numbers and new immigration visualizations. Check our other visualizations. Immigration statistics per countries · Immigration statistics ...\"),\n",
       "  (AgentAction(tool='Intermediate Answer', tool_input='What is the population of India?', log='Intermediate answer: The population of China is approximately 1.425 billion.\\nFollow up: What is the population of India?'),\n",
       "   '1.451 billion (2024)'),\n",
       "  (AgentAction(tool='Intermediate Answer', tool_input='What is the population of India?', log='Follow up: What is the population of India?'),\n",
       "   \"India: Country in South Asia. India, officially the Republic of India, is a country in South Asia. It is the seventh-largest country by area; the most populous country since 2023; and, since its independence in 1947, the world's most populous democracy. India Capital: New Delhi. The current population of India is 1,465,042,772 as of Tuesday, August 5, 2025, based on Worldometer's elaboration of the latest United Nations data1. India ... World Population ; India, 1,419,316,933 ; China, 1,407,181,209 ; United States, 342,034,432 ; Indonesia, 283,587,097 ; Pakistan, 257,047,044. In 2023 India's population stood at slightly over 1.428 billion, edging past China's population of 1.425 billion people. It has a population of nearly 1464 million, making it the 1st largest country in the world. Its capital is New Delhi. India is a country in Asia. The population in India was 1,450,935,791 in 2024. The nominal GDP per capita in India was $2,696.66 in 2024. The Gini index in ... Total current population for India in 2025 is 1,454,606,724, a 0.89% increase from 2024. Total population for India in 2024 was 1,441,719,852, a 0.25% increase ... It is a pluralistic, multilingual and multi-ethnic society. India's population grew from 361 million in 1951 to over 1.4 billion in 2023. As of 1 January 2025, the population of India was estimated to be 1,461,898,454 people. This is an increase of 1.26 % (18,176,460 people) compared to population ... India · 1.4B · 477.4 · 106.2 · 2.0 · $41.5B · $87.3B · 93.6%. A Closer Look. Source. Comparisons. Population. People per sq. km. Males per 100 females. Children ...\")]}"
      ]
     },
     "execution_count": 28,
     "metadata": {},
     "output_type": "execute_result"
    }
   ],
   "source": [
    "agent_executor.invoke({\n",
    "    \"input\": \"which asian country has the largest population?\"\n",
    "})"
   ]
  },
  {
   "cell_type": "markdown",
   "id": "70e8e793",
   "metadata": {},
   "source": [
    "# custom tool"
   ]
  },
  {
   "cell_type": "code",
   "execution_count": 7,
   "id": "38076e86",
   "metadata": {},
   "outputs": [],
   "source": [
    "# custom tool\n",
    "@tool\n",
    "def get_employee_id(name: str) -> str:\n",
    "    \"\"\"Get the employee ID for a given name.\"\"\"\n",
    "\n",
    "    fake_employees = {\n",
    "        \"Alice\": \"12345\",\n",
    "        \"Bob\": \"67890\",\n",
    "        \"Charlie\": \"54321\",\n",
    "        \"David\": \"98765\",\n",
    "        \"Eve\": \"11223\",\n",
    "        \"Frank\": \"44556\",\n",
    "        \"Grace\": \"77889\",\n",
    "        \"Heidi\": \"33445\",\n",
    "        \"Ivan\": \"66778\",\n",
    "        \"Judy\": \"88990\"\n",
    "    }\n",
    "    # This is a mock implementation, replace with actual logic\n",
    "    return fake_employees.get(name, \"Employee not found\")\n",
    "\n",
    "@tool\n",
    "def get_employee_salary(name: str) -> str:\n",
    "    \"\"\"Get the employee salary for a given name.\"\"\"\n",
    "\n",
    "    fake_salaries = {\n",
    "        \"Alice\": \"$100,000\",\n",
    "        \"Bob\": \"$120,000\",\n",
    "        \"Charlie\": \"$110,000\",\n",
    "        \"David\": \"$130,000\",\n",
    "        \"Eve\": \"$140,000\",\n",
    "        \"Frank\": \"$150,000\",\n",
    "        \"Grace\": \"$160,000\",\n",
    "        \"Heidi\": \"$170,000\",\n",
    "        \"Ivan\": \"$180,000\",\n",
    "        \"Judy\": \"$190,000\"\n",
    "    }\n",
    "    # This is a mock implementation, replace with actual logic\n",
    "    return fake_salaries.get(name, \"Salary not found\")"
   ]
  },
  {
   "cell_type": "code",
   "execution_count": 8,
   "id": "25f393d7",
   "metadata": {},
   "outputs": [],
   "source": [
    "# create the tools\n",
    "tools = [\n",
    "    get_employee_id,\n",
    "    get_employee_salary\n",
    "]"
   ]
  },
  {
   "cell_type": "code",
   "execution_count": 9,
   "id": "957053b2",
   "metadata": {},
   "outputs": [
    {
     "name": "stdout",
     "output_type": "stream",
     "text": [
      "Answer the following questions as best you can. You have access to the following tools:\n",
      "\n",
      "{tools}\n",
      "\n",
      "Use the following format:\n",
      "\n",
      "Question: the input question you must answer\n",
      "Thought: you should always think about what to do\n",
      "Action: the action to take, should be one of [{tool_names}]\n",
      "Action Input: the input to the action\n",
      "Observation: the result of the action\n",
      "... (this Thought/Action/Action Input/Observation can repeat N times)\n",
      "Thought: I now know the final answer\n",
      "Final Answer: the final answer to the original input question\n",
      "\n",
      "Begin!\n",
      "\n",
      "Question: {input}\n",
      "Thought:{agent_scratchpad}\n"
     ]
    }
   ],
   "source": [
    "# get the prompt\n",
    "prompt = hub.pull(\"hwchase17/react\")\n",
    "print(prompt.template)"
   ]
  },
  {
   "cell_type": "code",
   "execution_count": 10,
   "id": "9f2fcedc",
   "metadata": {},
   "outputs": [],
   "source": [
    "# create the agent\n",
    "agent = create_react_agent(llm, tools, prompt)\n",
    "agent_executor = AgentExecutor(\n",
    "    agent=agent,\n",
    "    tools=tools, \n",
    "    verbose=True,\n",
    "    return_intermediate_steps=True\n",
    ")"
   ]
  },
  {
   "cell_type": "code",
   "execution_count": 13,
   "id": "e42e4145",
   "metadata": {},
   "outputs": [
    {
     "name": "stdout",
     "output_type": "stream",
     "text": [
      "\n",
      "\n",
      "\u001b[1m> Entering new AgentExecutor chain...\u001b[0m\n",
      "\u001b[32;1m\u001b[1;3mThought: I need to find Alice's employee ID first and then use it to get her salary.\n",
      "Action: get_employee_id\n",
      "Action Input: Alice\u001b[0m\u001b[36;1m\u001b[1;3m12345\u001b[0m\u001b[32;1m\u001b[1;3mThought: Now that I have Alice's employee ID, I can get her salary.\n",
      "Action: get_employee_salary\n",
      "Action Input: Alice\u001b[0m\u001b[33;1m\u001b[1;3m$100,000\u001b[0m\u001b[32;1m\u001b[1;3mThought: I now know the final answer\n",
      "Final Answer: Alice's salary is $100,000 \n",
      "\u001b[0m\n",
      "\n",
      "\u001b[1m> Finished chain.\u001b[0m\n"
     ]
    },
    {
     "data": {
      "text/plain": [
       "{'input': \"what's the salary of Alice?\",\n",
       " 'output': \"Alice's salary is $100,000\",\n",
       " 'intermediate_steps': [(AgentAction(tool='get_employee_id', tool_input='Alice', log=\"Thought: I need to find Alice's employee ID first and then use it to get her salary.\\nAction: get_employee_id\\nAction Input: Alice\"),\n",
       "   '12345'),\n",
       "  (AgentAction(tool='get_employee_salary', tool_input='Alice', log=\"Thought: Now that I have Alice's employee ID, I can get her salary.\\nAction: get_employee_salary\\nAction Input: Alice\"),\n",
       "   '$100,000')]}"
      ]
     },
     "execution_count": 13,
     "metadata": {},
     "output_type": "execute_result"
    }
   ],
   "source": [
    "# invoke the agent\n",
    "agent_executor.invoke({\n",
    "    \"input\": \"what's the salary of Alice?\"\n",
    "})"
   ]
  },
  {
   "cell_type": "markdown",
   "id": "27ea4910",
   "metadata": {},
   "source": []
  }
 ],
 "metadata": {
  "kernelspec": {
   "display_name": "aa_agent",
   "language": "python",
   "name": "python3"
  },
  "language_info": {
   "codemirror_mode": {
    "name": "ipython",
    "version": 3
   },
   "file_extension": ".py",
   "mimetype": "text/x-python",
   "name": "python",
   "nbconvert_exporter": "python",
   "pygments_lexer": "ipython3",
   "version": "3.12.8"
  }
 },
 "nbformat": 4,
 "nbformat_minor": 5
}
