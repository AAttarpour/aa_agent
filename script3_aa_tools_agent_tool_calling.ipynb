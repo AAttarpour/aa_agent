{
 "cells": [
  {
   "cell_type": "markdown",
   "id": "d86963ea",
   "metadata": {},
   "source": [
    "- This code has written by Ahmadreza Attarpour (a.attarpour@mail.utoronto.ca)\n",
    "- It's a practice to check how we can use LangChain/LangGraph to build tools and agents\n",
    "\n",
    "-------------------------------------"
   ]
  },
  {
   "cell_type": "markdown",
   "id": "fb35a012",
   "metadata": {},
   "source": [
    "# Agent\n",
    "\n",
    "- Agents use a language model to dynamically decide what steps to take to solve a problem. Unlike chains (where the steps are fixed in code), agents think step-by-step, choosing tools or actions based on the input and what they learn along the way. They reflect, take an action, observe the result, think again, and continue this loop until they reach a final answer.\n",
    "\n",
    "User Question\n",
    "\n",
    "     ↓\n",
    "\n",
    "[ Agent Thinks → Chooses Tool → Takes Action ]\n",
    "\n",
    "     ↓\n",
    "\n",
    "[ Observes Result → Thinks Again → Takes Next Action ]\n",
    "\n",
    "     ↓\n",
    "\n",
    "... (Repeats Until Done) ...\n",
    "\n",
    "     ↓\n",
    "\n",
    "Final Answer\n",
    "\n"
   ]
  },
  {
   "cell_type": "code",
   "execution_count": 1,
   "id": "a19adb1a",
   "metadata": {},
   "outputs": [],
   "source": [
    "import os"
   ]
  },
  {
   "cell_type": "code",
   "execution_count": 2,
   "id": "6ba50a41",
   "metadata": {},
   "outputs": [
    {
     "data": {
      "text/plain": [
       "True"
      ]
     },
     "execution_count": 2,
     "metadata": {},
     "output_type": "execute_result"
    }
   ],
   "source": [
    "# load the environment variables from the .env file\n",
    "from dotenv import load_dotenv\n",
    "load_dotenv()"
   ]
  },
  {
   "cell_type": "code",
   "execution_count": 3,
   "id": "03cd57a8",
   "metadata": {},
   "outputs": [],
   "source": [
    "# Read the variable from the environment and set it as a env variable\n",
    "GOOGLE_API_KEY = os.getenv(\"GOOGLE_API_KEY\")\n",
    "LANGCHAIN_API_KEY = os.getenv(\"LANGCHAIN_API_KEY\")\n",
    "LANGCHAIN_PROJECT = os.getenv(\"LANGCHAIN_PROJECT\")\n",
    "if GOOGLE_API_KEY:\n",
    "    os.environ[\"GOOGLE_API_KEY\"] = GOOGLE_API_KEY\n",
    "if LANGCHAIN_API_KEY:\n",
    "    os.environ[\"LANGCHAIN_API_KEY\"] = LANGCHAIN_API_KEY\n",
    "if LANGCHAIN_PROJECT:\n",
    "    os.environ[\"LANGCHAIN_PROJECT\"] = LANGCHAIN_PROJECT\n",
    "if os.getenv(\"TAVILY_API_KEY\"):\n",
    "    os.environ[\"TAVILY_API_KEY\"] = os.getenv(\"TAVILY_API_KEY\")\n",
    "if os.getenv(\"GROQ_API_KEY\"):\n",
    "    os.environ[\"GROQ_API_KEY\"] = os.getenv(\"GROQ_API_KEY\")\n",
    "os.environ[\"LANGCHAIN_TRACING_V2\"] = \"true\"\n",
    "os.environ[\"LANGCHAIN_ENDPOINT\"] = \"https://api.smith.langchain.com\""
   ]
  },
  {
   "cell_type": "code",
   "execution_count": null,
   "id": "4c91e0b7",
   "metadata": {},
   "outputs": [],
   "source": [
    "# load the LLM and embeddings from langchain_google_genai\n",
    "# from langchain_google_genai import GoogleGenerativeAIEmbeddings\n",
    "# embeddings = GoogleGenerativeAIEmbeddings(model=\"models/embedding-001\")\n",
    "# from langchain_google_genai import ChatGoogleGenerativeAI\n",
    "# llm = ChatGoogleGenerativeAI(model=\"gemini-2.5-pro\")"
   ]
  },
  {
   "cell_type": "code",
   "execution_count": 38,
   "id": "2055f0c1",
   "metadata": {},
   "outputs": [],
   "source": [
    "from langchain_huggingface import HuggingFaceEmbeddings\n",
    "# This is a sentence-transformers model: It maps sentences & paragraphs to a\n",
    "# 384 dimensional dense vector space and can be used for tasks like clustering or semantic search.\n",
    "embeddings = HuggingFaceEmbeddings(model_name=\"all-MiniLM-L6-v2\")\n",
    "from langchain_groq import ChatGroq\n",
    "# llm = ChatGroq(model=\"Gemma2-9b-It\")\n",
    "llm = ChatGroq(model=\"llama3-70b-8192\")"
   ]
  },
  {
   "cell_type": "code",
   "execution_count": 5,
   "id": "9773a03d",
   "metadata": {},
   "outputs": [
    {
     "data": {
      "text/plain": [
       "AIMessage(content='The capital of Iran is **Tehran**. \\n', additional_kwargs={}, response_metadata={'token_usage': {'completion_tokens': 13, 'prompt_tokens': 16, 'total_tokens': 29, 'completion_time': 0.023636364, 'prompt_time': 0.001246981, 'queue_time': 0.10208067800000001, 'total_time': 0.024883345}, 'model_name': 'Gemma2-9b-It', 'system_fingerprint': 'fp_10c08bf97d', 'service_tier': 'on_demand', 'finish_reason': 'stop', 'logprobs': None}, id='run--5bb707e1-e407-4de6-b320-32f31b871d5a-0', usage_metadata={'input_tokens': 16, 'output_tokens': 13, 'total_tokens': 29})"
      ]
     },
     "execution_count": 5,
     "metadata": {},
     "output_type": "execute_result"
    }
   ],
   "source": [
    "llm.invoke(\"What is the capital of Iran?\")"
   ]
  },
  {
   "cell_type": "markdown",
   "id": "d55f8509",
   "metadata": {},
   "source": [
    "# let's build some common tools"
   ]
  },
  {
   "cell_type": "markdown",
   "id": "e6471c41",
   "metadata": {},
   "source": [
    "# 1. Wikipedia"
   ]
  },
  {
   "cell_type": "code",
   "execution_count": 6,
   "id": "3244678d",
   "metadata": {},
   "outputs": [],
   "source": [
    "from langchain_community.tools import WikipediaQueryRun\n",
    "from langchain_community.utilities import WikipediaAPIWrapper"
   ]
  },
  {
   "cell_type": "code",
   "execution_count": 7,
   "id": "22cdc1db",
   "metadata": {},
   "outputs": [
    {
     "name": "stdout",
     "output_type": "stream",
     "text": [
      "Tool Name: wikipedia\n",
      "Tool Description: A wrapper around Wikipedia. Useful for when you need to answer general questions about people, places, companies, facts, historical events, or other subjects. Input should be a search query.\n",
      "Tool Arguments: {'query': {'description': 'query to look up on wikipedia', 'title': 'Query', 'type': 'string'}}\n"
     ]
    }
   ],
   "source": [
    "# create object rapper\n",
    "wikipedia_api_wrapper = WikipediaAPIWrapper()\n",
    "\n",
    "# create the Wikipedia tool\n",
    "# WikipediaQueryRun is a LangChain Tool that allows the agent or LLM to use Wikipedia as a resource.\n",
    "# It takes the WikipediaAPIWrapper object as an input so it knows how to actually retrieve Wikipedia content.\n",
    "wikipedia_tool = WikipediaQueryRun(api_wrapper=wikipedia_api_wrapper)\n",
    "\n",
    "# print the tool's description, name, and arguments\n",
    "print(f\"Tool Name: {wikipedia_tool.name}\")\n",
    "print(f\"Tool Description: {wikipedia_tool.description}\")\n",
    "print(f\"Tool Arguments: {wikipedia_tool.args}\")"
   ]
  },
  {
   "cell_type": "code",
   "execution_count": 8,
   "id": "8af1ef55",
   "metadata": {},
   "outputs": [
    {
     "name": "stdout",
     "output_type": "stream",
     "text": [
      "Result: Page: Python (programming language)\n",
      "Summary: Python is a high-level, general-purpose programming language. Its design philosophy emphasizes code readability with the use of significant indentation.\n",
      "Python is dynamically type-checked and garbage-collected. It supports multiple programming paradigms, including structured (particularly procedural), object-oriented and functional programming.\n",
      "Guido van Rossum began working on Python in the late 1980s as a successor to the ABC programming language, and he first released it in 1991 as Python 0.9.0. Python 2.0 was released in 2000. Python 3.0, released in 2008, was a major revision not completely backward-compatible with earlier versions. Python 2.7.18, released in 2020, was the last release of Python 2.\n",
      "Python consistently ranks as one of the most popular programming languages, and it has gained widespread use in the machine learning community. It is widely taught as an introductory programming language.\n",
      "\n",
      "\n",
      "\n",
      "Page: History of Python\n",
      "Summary: The programming language Python was conceived in the late 1980s, and its implementation was started in December 1989 by Guido van Rossum at CWI in the Netherlands as a successor to ABC capable of exception handling and interfacing with the Amoeba operating system. Van Rossum was Python's principal author and had a central role in deciding the direction of Python (as reflected in the title given to him by the Python community, Benevolent Dictator for Life (BDFL)) until stepping down as leader on July 12, 2018. Python was named after the BBC TV show Monty Python's Flying Circus.\n",
      "Python 2.0 was released on October 16, 2000, with many major new features, such as list comprehensions, cycle-detecting garbage collector, reference counting, memory management and support for Unicode, along with a change to the development process itself, with a shift to a more transparent and community-backed process.\n",
      "Python 3.0, a major, backwards-incompatible release, was released on December 3, 2008 after a long period of testing. Many of its major features were also backported to the backwards-compatible Python versions 2.6 and 2.7 until support for Python 2 finally ceased at the beginning of 2020. Releases of Python 3 include the 2to3 utility, which automates the translation of Python 2 code to Python 3. \n",
      "\n",
      "\n",
      "\n",
      "Page: Mojo (programming language)\n",
      "Summary: Mojo is a programming language in the Python family that is currently under development. It is available both in browsers via Jupyter notebooks, and locally on Linux and macOS. Mojo aims to combine the usability of a high-level programming language, specifically Python, with the performance of a system programming language such as C++, Rust, and Zig. As of February 2025, the Mojo compiler is closed source with an open source standard library. Modular, the company behind Mojo, has stated an intent to eventually open source the Mojo language, as it matures.\n",
      "Mojo builds on the Multi-Level Intermediate Representation (MLIR) compiler software framework, instead of directly on the lower level LLVM compiler framework like many languages such as Julia, Swift, C++, and Rust. MLIR is a newer compiler framework that allows Mojo to exploit higher level compiler passes unavailable in LLVM alone, and allows Mojo to compile down and target more than only central processing units (CPUs), including producing code that can run on graphics  processing units (GPUs), Tensor Processing Units (TPUs), application-specific integrated circuits (ASICs) and other accelerators. It can also often more effectively use certain types of CPU optimizations directly, like single instruction, multiple data (SIMD) with minor intervention by a developer, as occurs in many other languages. According to Jeremy Howard of fast.ai, Mojo can be seen as \"syntax sugar for MLIR\" and for that reason Mojo is well optimized for applications like artificial intelligence (AI).\n",
      "\n",
      "\n"
     ]
    }
   ],
   "source": [
    "# let's use the tool to search for a topic\n",
    "result = wikipedia_tool.invoke(\"Python programming language\")\n",
    "print(f\"Result: {result}\")"
   ]
  },
  {
   "cell_type": "markdown",
   "id": "a98455d3",
   "metadata": {},
   "source": [
    "# 2. Youtube Search"
   ]
  },
  {
   "cell_type": "code",
   "execution_count": 9,
   "id": "68305912",
   "metadata": {},
   "outputs": [],
   "source": [
    "from langchain_community.tools import YouTubeSearchTool"
   ]
  },
  {
   "cell_type": "code",
   "execution_count": 10,
   "id": "642d7149",
   "metadata": {},
   "outputs": [
    {
     "name": "stdout",
     "output_type": "stream",
     "text": [
      "Tool Name: youtube_search\n",
      "Tool Description: search for youtube videos associated with a person. the input to this tool should be a comma separated list, the first part contains a person name and the second a number that is the maximum number of video results to return aka num_results. the second part is optional\n",
      "Tool Arguments: {'query': {'title': 'Query', 'type': 'string'}}\n"
     ]
    }
   ],
   "source": [
    "# create the YouTube search tool\n",
    "youtube_tool = YouTubeSearchTool()\n",
    "\n",
    "# print the tool's description, name, and arguments\n",
    "print(f\"Tool Name: {youtube_tool.name}\")\n",
    "print(f\"Tool Description: {youtube_tool.description}\")\n",
    "print(f\"Tool Arguments: {youtube_tool.args}\")"
   ]
  },
  {
   "cell_type": "code",
   "execution_count": 24,
   "id": "26cd5c25",
   "metadata": {},
   "outputs": [
    {
     "name": "stdout",
     "output_type": "stream",
     "text": [
      "Result: ['https://www.youtube.com/watch?v=7CZyDPELXs4&pp=ygUPQWxiZXJ0IEVpbnN0ZWlu', 'https://www.youtube.com/watch?v=0zk-NVPYPWk&pp=ygUPQWxiZXJ0IEVpbnN0ZWlu0gcJCccJAYcqIYzv']\n"
     ]
    }
   ],
   "source": [
    "# let's use the tool to search for a topic\n",
    "result = youtube_tool.invoke(\"Albert Einstein\")\n",
    "print(f\"Result: {result}\")"
   ]
  },
  {
   "cell_type": "markdown",
   "id": "a671c166",
   "metadata": {},
   "source": [
    "# 3. Websearch"
   ]
  },
  {
   "cell_type": "code",
   "execution_count": 11,
   "id": "82d2be39",
   "metadata": {},
   "outputs": [],
   "source": [
    "from langchain_community.tools import TavilySearchResults"
   ]
  },
  {
   "cell_type": "code",
   "execution_count": 12,
   "id": "0500edee",
   "metadata": {},
   "outputs": [
    {
     "name": "stderr",
     "output_type": "stream",
     "text": [
      "/var/folders/14/bdvkx5wd5_7c6lw60dfrhz5r0000gn/T/ipykernel_9711/1230735268.py:2: LangChainDeprecationWarning: The class `TavilySearchResults` was deprecated in LangChain 0.3.25 and will be removed in 1.0. An updated version of the class exists in the :class:`~langchain-tavily package and should be used instead. To use it run `pip install -U :class:`~langchain-tavily` and import as `from :class:`~langchain_tavily import TavilySearch``.\n",
      "  tavily_search_tool = TavilySearchResults()\n"
     ]
    }
   ],
   "source": [
    "# define the Tavily search tool\n",
    "tavily_search_tool = TavilySearchResults()"
   ]
  },
  {
   "cell_type": "code",
   "execution_count": 13,
   "id": "94783b88",
   "metadata": {},
   "outputs": [
    {
     "name": "stdout",
     "output_type": "stream",
     "text": [
      "Result: [{'title': 'Ahmadreza Attarpour - Vascular Training (VAST) Platform', 'url': 'https://www.vast-training.org/ahmadreza', 'content': 'Biography: Ahmadreza completed his BSc in Biomedical Engineering, and his MSc in Electrical Engineering. He is a PhD student in the Department of Medical Biophysics at the University of Toronto. Ahmadreza’s research focuses on developing computational tools for quantitative investigation of structural and functional neuronal connectivity in neurodegenerative disease. His research interests include the development and application of Machine Learning and Deep Learning, whole-brain light-sheet [...] Vascular Training (VAST) Platform\\nVascular Training (VAST) Platform\\n\\n## Ahmadreza Attarpour\\n\\nPhD Student, Department of Medical Biophysics, University of Toronto\\n\\nEmail: a.attarpour@mail.utoronto.ca [...] microscopy, and electrophysiological recordings for mapping structural and functional connectivity over the course of neurodegeneration in transgenic models of Alzheimer’s Disease.', 'score': 0.7653308}, {'title': 'Ahmadreza Attarpour - AI & ML Specialist | PhD Researcher - LinkedIn', 'url': 'https://ca.linkedin.com/in/ahmadreza-attarpour-a049b816b', 'content': 'I am a senior Ph.D. researcher at the University of Toronto and Sunnybrook Research Institute, specializing in Machine Learning (Deep Learning), Biomedical', 'score': 0.68496037}, {'title': 'Ahmadreza Attarpour (@A_Attarpour) / X', 'url': 'https://x.com/A_Attarpour', 'content': 'Ph. D. Candidate @UofT, @Sunnybrook, and @MBPatUofT | Artificial Intelligence | Data Analyst | Neuroscience | Healthcare.', 'score': 0.5792344}, {'title': '\\u202aAhmadreza Attarpour\\u202c - \\u202aGoogle Scholar\\u202c', 'url': 'https://scholar.google.com/citations?user=6m7xbK4AAAAJ&hl=en', 'content': 'Ph. D. Candidate, University of Toronto - \\u202a\\u202aCited by 120\\u202c\\u202c - \\u202aBiomedical Signal Processing\\u202c - \\u202aMedical Image Processing\\u202c - \\u202aMachine Learning\\u202c', 'score': 0.5622973}, {'title': 'PEOPLE - FUNCTIONAL BRAIN IMAGING LAB', 'url': 'https://brainimaginglab.com/people', 'content': '### Ahmadreza Attarpour, Graduate Student\\n\\nMy main research area is using data analysis and computational methods in the field of Neuroscience. My purpose in the educational milieu is to have a contribution to solving existing scientific challenges in the mentioned area. Joining this lab was a milestone during the worst situation (COVID pandemic) all of us have confronted. Outside of the lab, I enjoy playing Volleyball and video games.\\n\\n### Dustin Loren Almanza, Graduate Student [...] # FUNCTIONAL BRAIN IMAGING LAB\\n\\nYour Custom Text Here\\n\\n# FUNCTIONAL BRAIN IMAGING LAB\\n\\n# Our Team\\n\\n### Bojana Stefanovic, Principal Investigator\\n\\nI love reading - fiction and non-fiction alike; also Harper’s, Granta, the New Yorker. Even though I’m slow, I like biking, scooting, and outdoor skating; and I’m a huge fan of yoga. Tart flavours and jazz. Classical piano if under the weather. Thich Nhat Hanh and Marshall Rosenberg. Learn more here.\\n\\n### Bharathy Lingamoorthy, Administrative Assistant [...] I love to read, typically fiction, although I care more about how the book is written than what the book is about (favourites include The Winter Vault by Anne Michaels and In the Skin of a Lion by Michael Ondaatje). On my nights off I like to practice yoga and draw or paint.\\n\\n### Matthew (Matt) Rozak, Graduate Student', 'score': 0.5170594}]\n"
     ]
    }
   ],
   "source": [
    "# let's use the tool to search for a topic\n",
    "result = tavily_search_tool.invoke({\"query\": \"Ahmadreza Attarpour\"})\n",
    "print(f\"Result: {result}\")"
   ]
  },
  {
   "cell_type": "markdown",
   "id": "da081bb6",
   "metadata": {},
   "source": [
    "# Create a custom tool"
   ]
  },
  {
   "cell_type": "code",
   "execution_count": 15,
   "id": "97f73d02",
   "metadata": {},
   "outputs": [],
   "source": [
    "from langchain.agents import tool\n",
    "@tool\n",
    "def get_word_lenth(word: str) -> int:\n",
    "    \"\"\"Get the length of a word.\"\"\"\n",
    "    return len(word)\n",
    "\n",
    "@tool\n",
    "def multiply(a: int, b: int) -> int:\n",
    "    \"\"\"Multiply two numbers.\"\"\"\n",
    "    return a * b\n",
    "\n",
    "@tool\n",
    "def add(a: int, b: int) -> int:\n",
    "    \"\"\"Add two numbers.\"\"\"\n",
    "    return a + b"
   ]
  },
  {
   "cell_type": "code",
   "execution_count": 16,
   "id": "a2c8cb5c",
   "metadata": {},
   "outputs": [
    {
     "name": "stdout",
     "output_type": "stream",
     "text": [
      "Tool Name: multiply\n",
      "Tool Description: Multiply two numbers.\n",
      "Tool Arguments: {'a': {'title': 'A', 'type': 'integer'}, 'b': {'title': 'B', 'type': 'integer'}}\n"
     ]
    }
   ],
   "source": [
    "# print the tool's description, name, and arguments\n",
    "print(f\"Tool Name: {multiply.name}\")\n",
    "print(f\"Tool Description: {multiply.description}\")\n",
    "print(f\"Tool Arguments: {multiply.args}\")"
   ]
  },
  {
   "cell_type": "code",
   "execution_count": 17,
   "id": "c265f9a4",
   "metadata": {},
   "outputs": [
    {
     "data": {
      "text/plain": [
       "15"
      ]
     },
     "execution_count": 17,
     "metadata": {},
     "output_type": "execute_result"
    }
   ],
   "source": [
    "add.invoke({\"a\": 5, \"b\": 10})  # Example usage of the custom tool"
   ]
  },
  {
   "cell_type": "markdown",
   "id": "9d6848d9",
   "metadata": {},
   "source": [
    "# Now let's build the agent using langchain"
   ]
  },
  {
   "cell_type": "markdown",
   "id": "1cefe76d",
   "metadata": {},
   "source": [
    "# 1. the first version (this deprecated now)"
   ]
  },
  {
   "cell_type": "code",
   "execution_count": 18,
   "id": "183e0148",
   "metadata": {},
   "outputs": [],
   "source": [
    "from langchain.agents import AgentType, load_tools, initialize_agent"
   ]
  },
  {
   "cell_type": "code",
   "execution_count": 19,
   "id": "293ecafb",
   "metadata": {},
   "outputs": [],
   "source": [
    "# load the tools for the agent\n",
    "tool = load_tools([\"wikipedia\", \"llm-math\"], llm=llm)\n"
   ]
  },
  {
   "cell_type": "code",
   "execution_count": 20,
   "id": "8b3ad107",
   "metadata": {},
   "outputs": [
    {
     "name": "stderr",
     "output_type": "stream",
     "text": [
      "/var/folders/14/bdvkx5wd5_7c6lw60dfrhz5r0000gn/T/ipykernel_9711/471296717.py:2: LangChainDeprecationWarning: LangChain agents will continue to be supported, but it is recommended for new use cases to be built with LangGraph. LangGraph offers a more flexible and full-featured framework for building agents, including support for tool-calling, persistence of state, and human-in-the-loop workflows. For details, refer to the `LangGraph documentation <https://langchain-ai.github.io/langgraph/>`_ as well as guides for `Migrating from AgentExecutor <https://python.langchain.com/docs/how_to/migrate_agent/>`_ and LangGraph's `Pre-built ReAct agent <https://langchain-ai.github.io/langgraph/how-tos/create-react-agent/>`_.\n",
      "  agent = initialize_agent(\n"
     ]
    }
   ],
   "source": [
    "# let's built the agent using langchain\n",
    "agent = initialize_agent(\n",
    "    tool,\n",
    "    llm,\n",
    "    agent=AgentType.ZERO_SHOT_REACT_DESCRIPTION,\n",
    "    verbose=True\n",
    ")"
   ]
  },
  {
   "cell_type": "code",
   "execution_count": 21,
   "id": "c3da1c68",
   "metadata": {},
   "outputs": [
    {
     "name": "stderr",
     "output_type": "stream",
     "text": [
      "/var/folders/14/bdvkx5wd5_7c6lw60dfrhz5r0000gn/T/ipykernel_9711/3007001499.py:2: LangChainDeprecationWarning: The method `Chain.run` was deprecated in langchain 0.1.0 and will be removed in 1.0. Use :meth:`~invoke` instead.\n",
      "  agent.run(\"What is the population of Tehran?\")\n"
     ]
    },
    {
     "name": "stdout",
     "output_type": "stream",
     "text": [
      "\n",
      "\n",
      "\u001b[1m> Entering new AgentExecutor chain...\u001b[0m\n",
      "\u001b[32;1m\u001b[1;3mThought: I need to look up the population of Tehran.\n",
      "Action: wikipedia\n",
      "Action Input: population of Tehran\u001b[0m\n",
      "Observation: \u001b[36;1m\u001b[1;3mPage: Tehran\n",
      "Summary: Tehran is the capital and largest city of Iran. It is also the capital of Tehran province and the administrative center for Tehran County and its Central District. With a population of around 9.8 million in the city, and 16.8 million in the metropolitan area, Tehran is the most populous city in Iran and Western Asia, the second-largest metropolitan area in the Middle East after Cairo, and the 24th-most-populous metropolitan area in the world. Greater Tehran includes several municipalities, including Karaj, Eslamshahr, Shahriar, Qods, Malard, Golestan, Pakdasht, Qarchak, Nasimshahr, Parand, Pardis, Andisheh and Fardis.\n",
      "In classical antiquity, part of the territory of present-day Tehran was occupied by Rhages (now Ray), a prominent Median city that was destroyed in the medieval Arab, Turkic, and Mongol invasions. Modern Ray was absorbed into the metropolitan area of Greater Tehran. Tehran was first chosen as the capital of Iran in 1786 by Agha Mohammad Khan of the Qajar dynasty, due to its proximity to Iran's territories in the Caucasus—which were contested in the Russo-Iranian Wars—and to avoid the vying factions of prior ruling Iranian dynasties; the capital of Iran had been moved several times throughout its long history, with Tehran becoming the 32nd. Under Naser al-Din Shah (1848-1896), Tehran witnessed Iran's first institute of higher learning, bank, railway line and museum. Large-scale construction works began in the 1920s, and Tehran became a destination for mass migrations from all over Iran in the 20th century.\n",
      "Tehran is home to many historical sites, including the World Heritage Site Golestan Palace of Qajar dynasty and the Sa'dabad, Niavaran and Marmar  palace complexes of the Pahlavi dynasty. Landmarks include the Azadi Tower, a memorial built in 1971 to mark the 2,500th anniversary of the Persian Empire; the Milad Tower, the world's sixth-tallest self-supporting tower, completed in 2007; and the Tabiat Bridge, completed in 2014.\n",
      "Most residents of Tehran are Persian, of whom roughly 99% speak the Persian language; there are numerous other ethnolinguistic groups that are Persianised and assimilated. Tehran has been described as a cultural \"melting pot\", hosting more Azerbaijanis than any other city in the world, as well as over 2 million Kurds. Tehran is served by Imam Khomeini International Airport, alongside the domestic Mehrabad Airport, a central railway station, Tehran Metro, the Tehran Bus Rapid Transit system, trolleybuses, and a large network of highways.\n",
      "Due to air pollution and earthquakes, there have been plans to relocate the capital to another area, although none have been approved. A 2016 survey of 230 cities across the globe by Mercer ranked Tehran 203rd for quality of life. According to the Global Destinations Cities Index in 2016, Tehran is among the top ten fastest growing tourism destinations. In 2016, the Tehran City Council declared 6 October \"Tehran Day\", celebrating the date in 1907 when the city officially became the capital of Iran.\n",
      "\n",
      "Page: Tehran province\n",
      "Summary: Tehran province (Persian: استان تهران) is one of the 31 provinces of Iran. Its capital is the city of Tehran.\n",
      "Tehran province covers an area of 18,814 square kilometres (7,264 sq mi) and is located to the north of the Central Plateau of Iran. It was made a part of the First Region with its secretariat located in Tehran, upon the division of the provinces into 5 regions, solely for coordination and development purposes on June 22, 2014.\n",
      "The province of Tehran has over 12 million inhabitants and is Iran's most densely populated region. Approximately 86.5 percent reside in urban areas and 13.5 percent in rural areas of the province.\n",
      "\n",
      "Page: List of largest cities of Iran\n",
      "Summary: Iran has one of the highest urban population growth rates in the world. From 1950 to 2002, the urban proportion of the population increased from 27% to 60%. The United Nations (UN) predicts that by 2030 80% of the population will live in u\u001b[0m\n",
      "Thought:\u001b[32;1m\u001b[1;3mQuestion: What is the population of Tehran?\n",
      "Thought: I need to look up the population of Tehran.\n",
      "Action: wikipedia\n",
      "Action Input: population of Tehran\u001b[0m\n",
      "Observation: \u001b[36;1m\u001b[1;3mPage: Tehran\n",
      "Summary: Tehran is the capital and largest city of Iran. It is also the capital of Tehran province and the administrative center for Tehran County and its Central District. With a population of around 9.8 million in the city, and 16.8 million in the metropolitan area, Tehran is the most populous city in Iran and Western Asia, the second-largest metropolitan area in the Middle East after Cairo, and the 24th-most-populous metropolitan area in the world. Greater Tehran includes several municipalities, including Karaj, Eslamshahr, Shahriar, Qods, Malard, Golestan, Pakdasht, Qarchak, Nasimshahr, Parand, Pardis, Andisheh and Fardis.\n",
      "In classical antiquity, part of the territory of present-day Tehran was occupied by Rhages (now Ray), a prominent Median city that was destroyed in the medieval Arab, Turkic, and Mongol invasions. Modern Ray was absorbed into the metropolitan area of Greater Tehran. Tehran was first chosen as the capital of Iran in 1786 by Agha Mohammad Khan of the Qajar dynasty, due to its proximity to Iran's territories in the Caucasus—which were contested in the Russo-Iranian Wars—and to avoid the vying factions of prior ruling Iranian dynasties; the capital of Iran had been moved several times throughout its long history, with Tehran becoming the 32nd. Under Naser al-Din Shah (1848-1896), Tehran witnessed Iran's first institute of higher learning, bank, railway line and museum. Large-scale construction works began in the 1920s, and Tehran became a destination for mass migrations from all over Iran in the 20th century.\n",
      "Tehran is home to many historical sites, including the World Heritage Site Golestan Palace of Qajar dynasty and the Sa'dabad, Niavaran and Marmar  palace complexes of the Pahlavi dynasty. Landmarks include the Azadi Tower, a memorial built in 1971 to mark the 2,500th anniversary of the Persian Empire; the Milad Tower, the world's sixth-tallest self-supporting tower, completed in 2007; and the Tabiat Bridge, completed in 2014.\n",
      "Most residents of Tehran are Persian, of whom roughly 99% speak the Persian language; there are numerous other ethnolinguistic groups that are Persianised and assimilated. Tehran has been described as a cultural \"melting pot\", hosting more Azerbaijanis than any other city in the world, as well as over 2 million Kurds. Tehran is served by Imam Khomeini International Airport, alongside the domestic Mehrabad Airport, a central railway station, Tehran Metro, the Tehran Bus Rapid Transit system, trolleybuses, and a large network of highways.\n",
      "Due to air pollution and earthquakes, there have been plans to relocate the capital to another area, although none have been approved. A 2016 survey of 230 cities across the globe by Mercer ranked Tehran 203rd for quality of life. According to the Global Destinations Cities Index in 2016, Tehran is among the top ten fastest growing tourism destinations. In 2016, the Tehran City Council declared 6 October \"Tehran Day\", celebrating the date in 1907 when the city officially became the capital of Iran.\n",
      "\n",
      "Page: Tehran province\n",
      "Summary: Tehran province (Persian: استان تهران) is one of the 31 provinces of Iran. Its capital is the city of Tehran.\n",
      "Tehran province covers an area of 18,814 square kilometres (7,264 sq mi) and is located to the north of the Central Plateau of Iran. It was made a part of the First Region with its secretariat located in Tehran, upon the division of the provinces into 5 regions, solely for coordination and development purposes on June 22, 2014.\n",
      "The province of Tehran has over 12 million inhabitants and is Iran's most densely populated region. Approximately 86.5 percent reside in urban areas and 13.5 percent in rural areas of the province.\n",
      "\n",
      "Page: List of largest cities of Iran\n",
      "Summary: Iran has one of the highest urban population growth rates in the world. From 1950 to 2002, the urban proportion of the population increased from 27% to 60%. The United Nations (UN) predicts that by 2030 80% of the population will live in u\u001b[0m\n",
      "Thought:\u001b[32;1m\u001b[1;3mThought: The population of Tehran is given as around 9.8 million in the city and 16.8 million in the metropolitan area.\n",
      "Final Answer: The population of Tehran is approximately 9.8 million in the city and 16.8 million in the metropolitan area. \n",
      "\n",
      "\n",
      "\u001b[0m\n",
      "\n",
      "\u001b[1m> Finished chain.\u001b[0m\n"
     ]
    },
    {
     "data": {
      "text/plain": [
       "'The population of Tehran is approximately 9.8 million in the city and 16.8 million in the metropolitan area.'"
      ]
     },
     "execution_count": 21,
     "metadata": {},
     "output_type": "execute_result"
    }
   ],
   "source": [
    "# let's use the agent to answer a question\n",
    "agent.run(\"What is the population of Tehran?\")\n"
   ]
  },
  {
   "cell_type": "code",
   "execution_count": null,
   "id": "744d9a44",
   "metadata": {},
   "outputs": [],
   "source": [
    "# or I can use my previous defined tools\n",
    "# math tool\n",
    "math_tool = load_tools([\"llm-math\"], llm=llm)[0]\n",
    "\n",
    "tools = [wikipedia_tool, youtube_tool, tavily_search_tool, math_tool]\n",
    "\n",
    "# let's built the agent using langchain with my tools\n",
    "agent = initialize_agent(\n",
    "    tools,\n",
    "    llm,\n",
    "    agent=AgentType.ZERO_SHOT_REACT_DESCRIPTION,\n",
    "    handle_parsing_errors=True,\n",
    "    verbose=True\n",
    ")\n",
    "\n"
   ]
  },
  {
   "cell_type": "code",
   "execution_count": 58,
   "id": "83fee96b",
   "metadata": {},
   "outputs": [
    {
     "name": "stdout",
     "output_type": "stream",
     "text": [
      "\n",
      "\n",
      "\u001b[1m> Entering new AgentExecutor chain...\u001b[0m\n",
      "\u001b[32;1m\u001b[1;3mThought: I need to find out who Elnaz Khalili Samani is. I will start by searching for her name on Wikipedia. If that doesn't yield any results, I will try a general web search using Tavily.\n",
      "Action: wikipedia\n",
      "Action Input: Elnaz Khalili Samani\u001b[0m\n",
      "Observation: \u001b[36;1m\u001b[1;3mNo good Wikipedia Search Result was found\u001b[0m\n",
      "Thought:\u001b[32;1m\u001b[1;3mI now know the final answer\n",
      "Final Answer: Elnaz Khalili Samani is an Iranian actress known for her role in the 2017 film \"A Man of Integrity.\"\u001b[0m\n",
      "\n",
      "\u001b[1m> Finished chain.\u001b[0m\n"
     ]
    },
    {
     "data": {
      "text/plain": [
       "'Elnaz Khalili Samani is an Iranian actress known for her role in the 2017 film \"A Man of Integrity.\"'"
      ]
     },
     "execution_count": 58,
     "metadata": {},
     "output_type": "execute_result"
    }
   ],
   "source": [
    "agent.run(\"Who is Elnaz Khalili Samani?\")\n"
   ]
  },
  {
   "cell_type": "markdown",
   "id": "fd47df55",
   "metadata": {},
   "source": [
    "# 2. different type of agents "
   ]
  },
  {
   "cell_type": "code",
   "execution_count": 22,
   "id": "356b1445",
   "metadata": {},
   "outputs": [],
   "source": [
    "from langchain.agents import create_tool_calling_agent\n",
    "from langchain import hub\n",
    "from langchain.agents import AgentExecutor"
   ]
  },
  {
   "cell_type": "code",
   "execution_count": 23,
   "id": "4e844f2f",
   "metadata": {},
   "outputs": [],
   "source": [
    "# define the tools for the agent\n",
    "tools = [tavily_search_tool]"
   ]
  },
  {
   "cell_type": "code",
   "execution_count": 24,
   "id": "fee2b337",
   "metadata": {},
   "outputs": [
    {
     "data": {
      "text/plain": [
       "[{'title': 'Tehran Population 2025',\n",
       "  'url': 'https://worldpopulationreview.com/cities/iran/tehran',\n",
       "  'content': \"Tehran\\n\\nTehran's 2025 population is now estimated at 9,729,740.Â In 1950, the population of Tehran was 1,041,350.Â Tehran has grown by 113,730 in the last year, which represents a 1.18% annual change.These population estimates and projections come from the latest revision of the UN World Urbanization Prospects. These estimates represent the Urban agglomeration of Tehran, which typically includes Tehran's population in addition to adjacent suburban areas. [...] Tehran's 2025 population is now estimated at 9,729,740.Â In 1950, the population of Tehran was 1,041,350.Â Tehran has grown by 113,730 in the last year, which represents a 1.18% annual change.These population estimates and projections come from the latest revision of the UN World Urbanization Prospects. These estimates represent the Urban agglomeration of Tehran, which typically includes Tehran's population in addition to adjacent suburban areas.\\n\\nContents\\n\\nTehran Population\\n\\nTehran Overview [...] Situated in the northern center of the country, Tehran is Iranâ\\x80\\x99s capital city â\\x80\\x93 which is also its largest city. Iran is situated between the Middle East and Asia and has a history of changing its capital city â\\x80\\x93 Tehran being the 32nd one chosen. The population of the city of Tehran has been steadily growing over the last few decades and is now around 8.3 million. There is an estimated number of nearly 8.5 million in the middle of 2014. Interestingly, the Tehran metro system, which opened\",\n",
       "  'score': 0.93762916},\n",
       " {'title': 'Demographics of Tehran - Wikipedia',\n",
       "  'url': 'https://en.wikipedia.org/wiki/Demographics_of_Tehran',\n",
       "  'content': 'Tehran is one of the most ethnically diverse cities in Asia. The city of Tehran (not to be confused with the larger, Tehran Metropolitan) had a population of approximately 9,729,740 in 2025( and the Tehran Province had a 14,437,000 population in 2023.(\\n\\nPopulation\\n----------\\n\\n[edit] [...] Image 4This article needs additional citations for verification. Please help improve this article by adding citations to reliable sources. Unsourced material may be challenged and removed.\\n\\n_Find sources:_\"Demographics of Tehran\"–news·newspapers·books·scholar·JSTOR_(July 2022)_ _(Learn how and when to remove this message)_\\n\\n| Demographics of Tehran |\\n| --- |\\n| Image 5 Population pyramid of the Tehran province in 2016 |\\n| Population | 8,293,140 (2011) | [...] Population of settlements in Tehran\\'s metropolitan area hide| Settlement | Year | Average growth rate per year(%) |\\n| --- | --- | --- |\\n| 1956 | 1966 | 1976 | 1986 | 1996 | 2006 | 1956-1966 | 1966-1976 | 1976-1986 | 1986-1996 | 1996-2006 |\\n| Eslamshahr | 481 | 1 006 | 50 292 | 215 129 | 265 450 | 351 171 | 7.4 | 39.1 | 14.5 | 2.1 | 2.8 |\\n| Eshtehard | 4 542 | 5 149 | 5 074 | 8 095 | 10 274 | 16 988 | 1.3 | -0.1 | 3.7 | 2.4 | 5.0 |',\n",
       "  'score': 0.9229352},\n",
       " {'title': 'Tehran - Wikipedia',\n",
       "  'url': 'https://en.wikipedia.org/wiki/Tehran',\n",
       "  'content': 'The city of Tehran had a population of 7,711,230 in 2,286,787 households at the time of the 2006 National Census. The following census in 2011 counted 8,154,051 people in 2,624,511 households. The 2016 census measured the population of the city as 8,693,706 people in 2,911,065 households.\\n\\n### Language and ethnicity [...] Greater Tehran with its population of more than 13 million is supplied by surface water from the Lar dam on the Lar River in the Northeast of the city, the Latyan dam on the Jajrood River in the North, the Karaj River in the Northwest, as well as by groundwater in the vicinity of the city. [...] | Year | Pop. | ±% p.a. |\\n| --- | --- | --- |\\n| 1554 | 1,000 | — |\\n| 1626 | 3,000 | +1.54% |\\n| 1797 | 15,000 | +0.95% |\\n| 1807 | 50,000 | +12.79% |\\n| 1812 | 60,000 | +3.71% |\\n| 1834 | 80,000 | +1.32% |\\n| 1867 | 147,256 | +1.87% |\\n| 1930 | 250,000 | +0.84% |\\n| 1940 | 540,087 | +8.01% |\\n| 1956 | 1,560,934 | +6.86% |\\n| 1966 | 2,719,730 | +5.71% |\\n| 1976 | 4,530,223 | +5.23% |\\n| 1986 | 6,058,207 | +2.95% |\\n| 1991 | 6,497,238 | +1.41% |\\n| 1996 | 6,758,845 | +0.79% |\\n| 2006 | 7,711,230 | +1.33% |',\n",
       "  'score': 0.91435975},\n",
       " {'title': 'List of largest cities of Iran - Wikipedia',\n",
       "  'url': 'https://en.wikipedia.org/wiki/List_of_largest_cities_of_Iran',\n",
       "  'content': \"Iran has one of the highest urban population growth rates in the world. From 1950 to 2002, the urban proportion of the population increased from 27% to 60%. The United Nations (UN) predicts that by 2030 80% of the population will live in urban areas. Most internal migrants have settled near the cities of Tehran, Isfahan, Karaj, Ahvaz, Mashhad and Qom. Tehran, with a population of 8.7 million in 2016, is the largest city in Iran and is the nation's capital. Tehran is home to around 11% of Iran's [...] | Rank | City | Population |\\n| --- | --- | --- |\\n| 1 | Tehran | 15,800,000 |\\n| 2 | Mashhad | 3,989,070 |\\n| 3 | Isfahan | 3,416,000 |\\n| 4 | Karaj | 2,512,737 |\\n| 5 | Shiraz | 1,800,000 |\\n| 6 | Tabriz | 1,773,023 |\\n| 7 | Qom | 1,260,000 |\\n| 8 | Ahvaz | 1,184,788 |\\n| 9 | Kermanshah | 1,083,833 |\\n| 10 | Urmia | 1,000,000 |\\n\\n## Cities over 100,000 population [...] | Rank | City | Province | Date of Official  Foundation of  Municipality | 2016 Census | 2011 Census | Change |\\n| --- | --- | --- | --- | --- | --- | --- |\\n| 1 | Tehran | Tehran | 1907 | 8,693,706 | 8,154,051 | +6.62% |\\n| 2 | Mashhad | Razavi Khorasan | 1918 | 3,001,184 | 2,749,374 | +9.16% |\\n| 3 | Isfahan | Isfahan | 1907 | 1,961,260 | 1,756,126 | +11.68% |\\n| 4 | Karaj | Alborz | 1951 | 1,592,492 | 1,614,626 | −1.37% |\\n| 5 | Shiraz | Fars | 1907 | 1,565,572 | 1,460,665 | +7.18% |\",\n",
       "  'score': 0.8790744},\n",
       " {'title': 'Tehran | Iran, Population, Map, Climate, & Conference | Britannica',\n",
       "  'url': 'https://www.britannica.com/place/Tehran',\n",
       "  'content': 'city, 8,693,706. [...] Tehran, the capital city of Iran and the center of the province (ostān) of Tehran, located in north-central Iran at the foot of the Alborz mountain range. Since its establishment as the capital city by Āghā Moḥammad Khān more than 200 years ago, Tehran has grown from a small city to a major metropolis: situated in an urban region of 14 million inhabitants, Tehran is Iran’s largest city and one of the most populous cities of the world. Area city, 270 square miles (707 square km). Pop. (2016) [...] ## People\\n\\nPopulation density of Iran\\n\\nAs the country’s administrative center and its largest job market, Tehran has continuously grown in size, housing about one-tenth of Iran’s population in the early 21st century. The city’s growth rate peaked between the mid-1950s and ’60s. As the city’s growth rate slowed down, the suburbs grew at a faster pace until the mid-1980s, when their growth rate also started to slow down.',\n",
       "  'score': 0.8571119}]"
      ]
     },
     "execution_count": 24,
     "metadata": {},
     "output_type": "execute_result"
    }
   ],
   "source": [
    "tavily_search_tool.invoke({\"query\": \"What is the population of Tehran?\"})"
   ]
  },
  {
   "cell_type": "code",
   "execution_count": 25,
   "id": "f39db939",
   "metadata": {},
   "outputs": [
    {
     "data": {
      "text/plain": [
       "[SystemMessagePromptTemplate(prompt=PromptTemplate(input_variables=[], input_types={}, partial_variables={}, template='You are a helpful assistant'), additional_kwargs={}),\n",
       " MessagesPlaceholder(variable_name='chat_history', optional=True),\n",
       " HumanMessagePromptTemplate(prompt=PromptTemplate(input_variables=['input'], input_types={}, partial_variables={}, template='{input}'), additional_kwargs={}),\n",
       " MessagesPlaceholder(variable_name='agent_scratchpad')]"
      ]
     },
     "execution_count": 25,
     "metadata": {},
     "output_type": "execute_result"
    }
   ],
   "source": [
    "# define the prompt for the agent\n",
    "# This loads a pre-built chat prompt template for OpenAI function-calling agents.\n",
    "\n",
    "prompt = hub.pull(\"hwchase17/openai-functions-agent\")\n",
    "prompt.messages"
   ]
  },
  {
   "cell_type": "markdown",
   "id": "ab373c8c",
   "metadata": {},
   "source": [
    "- about variable_name='agent_scratchpad'\n",
    "\n",
    "The agent doesn't call a tool just once to get the desired answer, but has a structure that calls tools repeatedly until the desired answer is obtained. Each time you call a tool, what the previous call was like, information about the previous call, and the result are stored in this field. "
   ]
  },
  {
   "cell_type": "code",
   "execution_count": 39,
   "id": "b9bfa8f0",
   "metadata": {},
   "outputs": [],
   "source": [
    "# define the agent\n",
    "agent = create_tool_calling_agent(\n",
    "    llm,\n",
    "    tools,\n",
    "    prompt\n",
    ")"
   ]
  },
  {
   "cell_type": "code",
   "execution_count": 40,
   "id": "896c67bf",
   "metadata": {},
   "outputs": [
    {
     "name": "stdout",
     "output_type": "stream",
     "text": [
      "\n",
      "\n",
      "\u001b[1m> Entering new AgentExecutor chain...\u001b[0m\n",
      "\u001b[32;1m\u001b[1;3m\n",
      "Invoking: `tavily_search_results_json` with `{'query': 'San Francisco weather'}`\n",
      "\n",
      "\n",
      "\u001b[0m\u001b[36;1m\u001b[1;3m[{'title': 'Weather San Francisco in July 2025: Temperature & Climate', 'url': 'https://en.climate-data.org/north-america/united-states-of-america/california/san-francisco-385/t/july-7/', 'content': '| 31. July | Broken clouds | 19 °C 66.2 °F | 13 °C 55.4 °F | 0 % | 14 km/h 9 mph | 0mm 0 in | 89% |\\n| 1. August | Broken clouds | 18 °C 64.4 °F | 14 °C 57.2 °F | 0 % | 15 km/h 9 mph | 0mm 0 in | 88% |\\n| 2. August | Scattered clouds | 17 °C 62.6 °F | 13 °C 55.4 °F | 0 % | 16 km/h 10 mph | 0mm 0 in | 87% |\\n| 3. August | Few clouds | 18 °C 64.4 °F | 14 °C 57.2 °F | 0 % | 24 km/h 15 mph | 0mm 0 in | 80% | [...] | 29. July | 16 °C | 61 °F | 21 °C | 70 °F | 13 °C | 55 °F | 14 °C | 56 °F | 0.1 mm | 0.0 inch. |\\n| 30. July | 16 °C | 61 °F | 22 °C | 71 °F | 13 °C | 55 °F | 14 °C | 56 °F | 0.1 mm | 0.0 inch. |\\n| 31. July | 16 °C | 61 °F | 22 °C | 71 °F | 13 °C | 55 °F | 14 °C | 57 °F | 0.1 mm | 0.0 inch. |\\nData: 1999 - 2019 [...] | Date | Weather | Max. | Min. | Rainrisk | Windspeed | Precipitation / Rainfall mm (in) | Humidity |\\n| --- | --- | --- | --- | --- | --- | --- | --- |\\n| 4. August | Few clouds | 18 °C 64.4 °F | 14 °C 57.2 °F | 0 % | 13 km/h 8 mph | 0mm 0 in | 78% |\\n| 5. August | Few clouds | 20 °C 68 °F | 15 °C 59 °F | 20 % | 12 km/h 7 mph | 0mm 0 in | 77% |\\n| 6. August | Scattered clouds | 20 °C 68 °F | 15 °C 59 °F | 20 % | 15 km/h 9 mph | 0mm 0 in | 79% |', 'score': 0.9281033}, {'title': 'July 2025 Weather History in San Francisco California, United States', 'url': 'https://weatherspark.com/h/m/557/2025/7/Historical-Weather-in-July-2025-in-San-Francisco-California-United-States', 'content': '| | 5 | | 80% | - | 1:44 AM | WSW | 4:23 PM | ESE | 9:18 PM | S | 251,015 mi | | 6 | | 87% | - | 2:14 AM | WSW | 5:25 PM | ESE | 10:07 PM | S | 249,924 mi | | 7 | | 93% | - | 2:50 AM | SW | 6:26 PM | SE | 11:00 PM | S | 248,284 mi | | 8 | | 97% | - | 3:33 AM | SW | 7:24 PM | SE | 11:55 PM | S | 246,250 mi | | 9 | | 99% | - | 4:25 AM | SW | 8:16 PM | SE | - | - | | 10 | | 100% | - | 5:25 AM | SW | 9:01 PM | ESE | 12:51 AM | S | 243,986 mi | | 11 | | 100% | - | 6:31 AM | WSW | 9:39 PM | ESE | [...] Today Yesterday Jul 2025    194019501960197019801990200020102020    2016201720182019202020212022202320242025    SpringSummerFall Winter JanFebMarAprMayJunJulAug Sep Oct Nov Dec    123456789101112131415161718192021222324252627282930 31 July 2025 Weather History in San Francisco California, United States ==================================================================== The data for this report comes from the San Francisco International Airport. See all nearby weather stations Latest Report — [...] The shaded overlays indicate night and civil twilight. | Jul 2025 | | Illumination | Moonrise | Moonset | Moonrise | Meridian Passing | Distance | | --- | --- | --- | --- | --- | --- | --- | --- | | 1 | | 43% | - | 12:13 AM | W | 12:25 PM | E | 6:31 PM | S | 247,914 mi | | 2 | | 50% | - | 12:34 AM | W | 1:24 PM | E | 7:11 PM | S | 249,882 mi | | 3 | | 63% | - | 12:55 AM | WSW | 2:23 PM | ESE | 7:51 PM | S | 251,060 mi | | 4 | | 72% | - | 1:18 AM | WSW | 3:22 PM | ESE | 8:33 PM | S | 251,424 mi', 'score': 0.83452857}, {'title': 'San Francisco weather in July 2025 | California, USA', 'url': 'https://www.weather2travel.com/california/san-francisco/july/', 'content': \"weather2travel.com - travel deals for your holiday in the sun\\nClick to search\\n\\n# San Francisco weather in July 2025\\n\\nExpect  daytime maximum temperatures of 20°C in San Francisco, California in July based on long-term weather averages. There are 10 hours of sunshine per day on average. [...] Browse the sunrise and sunset times for San Francisco in July 2025. Select a month to view San Francisco sunrise and sunset times for the next 12 months.\\n\\nJanFebMarAprMayJunJulAugSepOctNovDec\\n\\n| Date | Sunrise times | Sunset times |\\n| --- | --- | --- |\\n| Tuesday, 1st July 2025 | 04:52 | 19:36 |\\n| Wednesday, 16th July 2025 | 05:01 | 19:30 |\\n| Thursday, 31st July 2025 | 05:13 | 19:19 |\\n\\n## Be inspired [...] A beginner's guide to San Francisco\\nA beginner's guide to San Francisco\\nPark life: San Francisco's best gardens & green spaces\\nPark life: San Francisco's best gardens & green spaces\\nWhere to relive the Summer of Love, San Francisco\\nWhere to relive the Summer of Love, San Francisco\\n\\n### How hot is it in San Francisco in July?\\n\\nDaytime temperatures usually reach 20°C in San Francisco in July, falling to 12°C at night.\\n\\n### How sunny is it in San Francisco in July?\", 'score': 0.8342047}, {'title': 'San Francisco weather in July 2025 | Weather25.com', 'url': 'https://www.weather25.com/north-america/usa/california/san-francisco?page=month&month=July', 'content': '| 27 Image 54: Sunny 21°/13° | 28 Image 55: Sunny 20°/14° | 29 Image 56: Mist 16°/13° | 30 Image 57: Fog 15°/13° | 31 Image 58: Fog 16°/13° |  |  | [...] If you’re planning to visit San Francisco in the near future, we highly recommend that you review the 14 day weather forecast for San Francisco before you arrive.\\n\\nImage 22: Temperatures\\n\\nTemperatures\\n\\n25° /14° \\n\\nImage 23: Rainy Days\\n\\nRainy Days\\n\\n0\\n\\nImage 24: Snowy Days\\n\\nSnowy Days\\n\\n0\\n\\nImage 25: Dry Days\\n\\nDry Days\\n\\n31\\n\\nImage 26: Rainfall\\n\\nRainfall\\n\\n3\\n\\nmm\\n\\nImage 27: 11.9\\n\\nSun Hours\\n\\n11.9\\n\\nHrs\\n\\nHistoric average weather for July\\n\\n[](\\n\\nJuly\\n\\n[]( [...] The average weather in San Francisco in July\\n--------------------------------------------\\n\\nThe temperatures in San Francisco in July are comfortable with low of 14°C and and high up to 25°C.\\n\\nThere is little to no rain in San Francisco during July, so it’s a lot easier to explore the city. Just remember to dress in warm layers, as it can still get pretty chilly.\\n\\nOur weather forecast can give you a great sense of what weather to expect in San Francisco in July 2025.', 'score': 0.78572035}, {'title': 'Weather in San Francisco in July 2025 (California)', 'url': 'https://world-weather.info/forecast/usa/san_francisco/july-2025/', 'content': \"Weather in San Francisco in July 2025 (California) - Detailed Weather Forecast for a Month\\n\\n===============\\n\\n[](\\n\\nAdd the current city\\n\\nSearch \\n\\n   Weather\\n   Archive\\n   Weather Widget\\n\\n°F\\n\\n   World\\n   United States\\n   California\\n   Weather in San Francisco\\n\\nWeather in San Francisco in July 2025\\n=====================================\\n\\nSan Francisco Weather Forecast for July 2025 is based on long term prognosis and previous years' statistical data.\\n\\n201520162017201820192020202120222023202420252026 [...] 25 +64° +57° 9.4 mph W 30 inHg 87 %06:07 am 20:24 pm\\n   26 +64° +59° 9.4 mph W 29.9 inHg 84 %06:08 am 20:23 pm\\n   27 +64° +57° 9.6 mph W 30 inHg 87 %06:09 am 20:22 pm\\n   28 +66° +57° 9.8 mph W 30 inHg 89 %06:10 am 20:21 pm\\n   29 +66° +57° 19.5 mph W 30 inHg 66 %06:11 am 20:21 pm\\n   30 +64° +57° 18.1 mph W 30 inHg 71 %06:12 am 20:20 pm\\n   31 +66° +57° 9.6 mph SW 29.9 inHg 90 %06:12 am 20:19 pm [...] Minimum and maximum\\n\\nworld's temperature today\\n\\n_Chile_\\n\\nPuerto Natales day+36°F night+19°F\\n\\n_Iraq_\\n\\nAl Majarr al Kabīr day+126°F night+93°F\\n\\nServices\\n\\nSupport\\n\\n   User agreement\\n   Feedback\\n   About Us\\n\\nSearch\\n\\nCity or place… \\n\\nCopyright © 2025 «World-Weather.info» All rights reserved. Privacy policy\\n\\nTemperature units\\n\\n°F°C\\n\\nIcons\", 'score': 0.7016523}]\u001b[0m\u001b[32;1m\u001b[1;3mThe weather in San Francisco in July 2025 is expected to be mild, with daytime temperatures ranging from 16°C to 22°C (61°F to 72°F) and nighttime temperatures ranging from 12°C to 15°C (54°F to 59°F). There is little to no rain expected during the month, with an average of 0mm to 0.1mm (0.0 inch) of precipitation. The humidity is expected to be around 78% to 93%.\u001b[0m\n",
      "\n",
      "\u001b[1m> Finished chain.\u001b[0m\n"
     ]
    },
    {
     "data": {
      "text/plain": [
       "{'input': \"What's the weather in SF?\",\n",
       " 'output': 'The weather in San Francisco in July 2025 is expected to be mild, with daytime temperatures ranging from 16°C to 22°C (61°F to 72°F) and nighttime temperatures ranging from 12°C to 15°C (54°F to 59°F). There is little to no rain expected during the month, with an average of 0mm to 0.1mm (0.0 inch) of precipitation. The humidity is expected to be around 78% to 93%.'}"
      ]
     },
     "execution_count": 40,
     "metadata": {},
     "output_type": "execute_result"
    }
   ],
   "source": [
    "# call the agent to answer a question\n",
    "agent_executor = AgentExecutor(agent=agent, tools=tools, verbose=True)\n",
    "# Add this after creating the agent_executor\n",
    "agent_executor.invoke({\"input\": \"What's the weather in SF?\"})\n"
   ]
  }
 ],
 "metadata": {
  "kernelspec": {
   "display_name": "aa_agent",
   "language": "python",
   "name": "python3"
  },
  "language_info": {
   "codemirror_mode": {
    "name": "ipython",
    "version": 3
   },
   "file_extension": ".py",
   "mimetype": "text/x-python",
   "name": "python",
   "nbconvert_exporter": "python",
   "pygments_lexer": "ipython3",
   "version": "3.12.8"
  }
 },
 "nbformat": 4,
 "nbformat_minor": 5
}
